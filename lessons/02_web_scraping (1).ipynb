{
  "cells": [
    {
      "cell_type": "markdown",
      "source": [
        "*Importante aclarar que la pagina con la que se trabaja actualmente es* \"https://www.ilga.gov/Senate/Members\" *dado que se redirecciona a la URL orgiinal a la antes mencionada. *"
      ],
      "metadata": {
        "id": "DDdE96D-kfYM"
      }
    },
    {
      "cell_type": "markdown",
      "metadata": {
        "id": "FKNmMic2dOmM"
      },
      "source": [
        "# Web Scraping with Beautiful Soup\n",
        "\n",
        "* * *\n",
        "\n",
        "### Icons used in this notebook\n",
        "🔔 **Question**: A quick question to help you understand what's going on.<br>\n",
        "🥊 **Challenge**: Interactive exercise. We'll work through these in the workshop!<br>\n",
        "⚠️ **Warning**: Heads-up about tricky stuff or common mistakes.<br>\n",
        "💡 **Tip**: How to do something a bit more efficiently or effectively.<br>\n",
        "🎬 **Demo**: Showing off something more advanced – so you know what Python can be used for!<br>\n",
        "\n",
        "### Learning Objectives\n",
        "1. [Reflection: To Scape Or Not To Scrape](#when)\n",
        "2. [Extracting and Parsing HTML](#extract)\n",
        "3. [Scraping the Illinois General Assembly](#scrape)"
      ]
    },
    {
      "cell_type": "markdown",
      "metadata": {
        "id": "kEAIUQz-dOmO"
      },
      "source": [
        "<a id='when'></a>\n",
        "\n",
        "# To Scrape Or Not To Scrape\n",
        "\n",
        "When we'd like to access data from the web, we first have to make sure if the website we are interested in offers a Web API. Platforms like Twitter, Reddit, and the New York Times offer APIs. **Check out D-Lab's [Python Web APIs](https://github.com/dlab-berkeley/Python-Web-APIs) workshop if you want to learn how to use APIs.**\n",
        "\n",
        "However, there are often cases when a Web API does not exist. In these cases, we may have to resort to web scraping, where we extract the underlying HTML from a web page, and directly obtain the information we want. There are several packages in Python we can use to accomplish these tasks. We'll focus two packages: Requests and Beautiful Soup.\n",
        "\n",
        "Our case study will be scraping information on the [state senators of Illinois](http://www.ilga.gov/senate), as well as the [list of bills](http://www.ilga.gov/senate/SenatorBills.asp?MemberID=1911&GA=98&Primary=True) each senator has sponsored. Before we get started, peruse these websites to take a look at their structure."
      ]
    },
    {
      "cell_type": "markdown",
      "source": [
        "##En esta sección se procede a intalar las librerias necesarias para utilizar en este caso *requests y beautifoulsoup4*"
      ],
      "metadata": {
        "id": "rg3qK6W_de7-"
      }
    },
    {
      "cell_type": "markdown",
      "metadata": {
        "id": "ecntuaO_dOmP"
      },
      "source": [
        "## Installation\n",
        "\n",
        "We will use two main packages: [Requests](http://docs.python-requests.org/en/latest/user/quickstart/) and [Beautiful Soup](http://www.crummy.com/software/BeautifulSoup/bs4/doc/). Go ahead and install these packages, if you haven't already:"
      ]
    },
    {
      "cell_type": "code",
      "execution_count": 1,
      "metadata": {
        "colab": {
          "base_uri": "https://localhost:8080/"
        },
        "id": "9lFaMRUedOmP",
        "outputId": "a1d24e92-c1bf-4cb6-95b7-f84e8b5ee6af"
      },
      "outputs": [
        {
          "output_type": "stream",
          "name": "stdout",
          "text": [
            "Requirement already satisfied: requests in /usr/local/lib/python3.12/dist-packages (2.32.4)\n",
            "Requirement already satisfied: charset_normalizer<4,>=2 in /usr/local/lib/python3.12/dist-packages (from requests) (3.4.3)\n",
            "Requirement already satisfied: idna<4,>=2.5 in /usr/local/lib/python3.12/dist-packages (from requests) (3.10)\n",
            "Requirement already satisfied: urllib3<3,>=1.21.1 in /usr/local/lib/python3.12/dist-packages (from requests) (2.5.0)\n",
            "Requirement already satisfied: certifi>=2017.4.17 in /usr/local/lib/python3.12/dist-packages (from requests) (2025.8.3)\n"
          ]
        }
      ],
      "source": [
        "%pip install requests"
      ]
    },
    {
      "cell_type": "code",
      "execution_count": 3,
      "metadata": {
        "colab": {
          "base_uri": "https://localhost:8080/"
        },
        "id": "_QjFLIj7dOmQ",
        "outputId": "19a96c7c-524a-464f-ee3b-504a9d21ebe8"
      },
      "outputs": [
        {
          "output_type": "stream",
          "name": "stdout",
          "text": [
            "Requirement already satisfied: beautifulsoup4 in /usr/local/lib/python3.12/dist-packages (4.13.4)\n",
            "Requirement already satisfied: soupsieve>1.2 in /usr/local/lib/python3.12/dist-packages (from beautifulsoup4) (2.7)\n",
            "Requirement already satisfied: typing-extensions>=4.0.0 in /usr/local/lib/python3.12/dist-packages (from beautifulsoup4) (4.14.1)\n"
          ]
        }
      ],
      "source": [
        "%pip install beautifulsoup4"
      ]
    },
    {
      "cell_type": "markdown",
      "metadata": {
        "id": "I6lfsoaFdOmR"
      },
      "source": [
        "We'll also install the `lxml` package, which helps support some of the parsing that Beautiful Soup performs:"
      ]
    },
    {
      "cell_type": "code",
      "execution_count": 4,
      "metadata": {
        "colab": {
          "base_uri": "https://localhost:8080/"
        },
        "id": "X_0jnDoNdOmR",
        "outputId": "461ec7d4-1445-434e-df9a-1accb38731f2"
      },
      "outputs": [
        {
          "output_type": "stream",
          "name": "stdout",
          "text": [
            "Requirement already satisfied: lxml in /usr/local/lib/python3.12/dist-packages (5.4.0)\n"
          ]
        }
      ],
      "source": [
        "%pip install lxml"
      ]
    },
    {
      "cell_type": "code",
      "execution_count": 5,
      "metadata": {
        "tags": [],
        "id": "ZWQ1NzgSdOmR"
      },
      "outputs": [],
      "source": [
        "# Import required libraries\n",
        "from bs4 import BeautifulSoup\n",
        "from datetime import datetime\n",
        "import requests\n",
        "import time"
      ]
    },
    {
      "cell_type": "markdown",
      "metadata": {
        "id": "zy9a1-KfdOmS"
      },
      "source": [
        "<a id='extract'></a>\n",
        "\n",
        "# Extracting and Parsing HTML\n",
        "\n",
        "In order to succesfully scrape and analyse HTML, we'll be going through the following 4 steps:\n",
        "1. Make a GET request\n",
        "2. Parse the page with Beautiful Soup\n",
        "3. Search for HTML elements\n",
        "4. Get attributes and text of these elements"
      ]
    },
    {
      "cell_type": "markdown",
      "metadata": {
        "id": "UmVHHkvbdOmS"
      },
      "source": [
        "## Step 1: Make a GET Request to Obtain a Page's HTML\n",
        "\n",
        "We can use the Requests library to:\n",
        "\n",
        "1. Make a GET request to the page, and\n",
        "2. Read in the webpage's HTML code.\n",
        "\n",
        "The process of making a request and obtaining a result resembles that of the Web API workflow. Now, however, we're making a request directly to the website, and we're going to have to parse the HTML ourselves. This is in contrast to being provided data organized into a more straightforward `JSON` or `XML` output."
      ]
    },
    {
      "cell_type": "markdown",
      "source": [
        "##*Se* define la url a la que se le aplicara la peticion get"
      ],
      "metadata": {
        "id": "0bAVrkOagiXT"
      }
    },
    {
      "cell_type": "code",
      "execution_count": 6,
      "metadata": {
        "tags": [],
        "colab": {
          "base_uri": "https://localhost:8080/"
        },
        "id": "HXIoneXtdOmT",
        "outputId": "667a722c-36e6-4533-b2ec-d00aed1a93e5"
      },
      "outputs": [
        {
          "output_type": "stream",
          "name": "stdout",
          "text": [
            "<!DOCTYPE html>\r\n",
            "<html lang=\"en\">\r\n",
            "<head id=\"Head1\">\r\n",
            "    <meta name=\"viewport\" content=\"width=device-width, initial-scale=1.0\" />\r\n",
            "    <meta http-equiv=\"content-type\" content=\"text/html;charset=utf-8\" />\r\n",
            "    <meta http-equiv=\"X-UA-Compatible\" content=\"IE=Edge\" />\r\n",
            "    <meta charset=\"utf-8\" />\r\n",
            "    <meta charset=\"UTF-8\">\r\n",
            "    <!-- Meta Description -->\r\n",
            "    <meta name=\"description\" content=\"Welcome to the official government website of the Illinois General Assembly\">\r\n",
            "    <meta name=\"contactName\" content=\"Legislative Information System\">\r\n",
            "    <meta name=\"contactOrganization\" content=\"LIS Staff Services\">\r\n",
            "    <meta name=\"contactStreetAddress1\" content=\"705 Stratton Office Building\">\r\n",
            "    <meta name=\"contactCity\" content=\"Springfield\">\r\n",
            "    <meta name=\"contactZipcode\" content=\"62706\">\r\n",
            "    <meta name=\"contactNetworkAddress\" content=\"webmaster@ilga.gov\">\r\n",
            "    <meta name=\"contactPhoneNumber\" content=\"217-782-3944\">\r\n",
            "    <meta name=\"contactFaxNumber\" content=\"217-524-6059\">\r\n",
            "    <meta name\n"
          ]
        }
      ],
      "source": [
        "# Make a GET request\n",
        "req = requests.get('http://www.ilga.gov/senate/default.asp')\n",
        "# Read the content of the server’s response\n",
        "src = req.text\n",
        "# View some output\n",
        "print(src[:1000])"
      ]
    },
    {
      "cell_type": "markdown",
      "metadata": {
        "id": "aFv5S5g3dOmT"
      },
      "source": [
        "## Step 2: Parse the Page with Beautiful Soup\n",
        "\n",
        "Now, we use the `BeautifulSoup` function to parse the reponse into an HTML tree. This returns an object (called a **soup object**) which contains all of the HTML in the original document.\n",
        "\n",
        "If you run into an error about a parser library, make sure you've installed the `lxml` package to provide Beautiful Soup with the necessary parsing tools."
      ]
    },
    {
      "cell_type": "code",
      "execution_count": 21,
      "metadata": {
        "colab": {
          "base_uri": "https://localhost:8080/"
        },
        "id": "ffNGs5n0dOmT",
        "outputId": "d43f7a8c-a67d-4783-a621-32a304ed13de"
      },
      "outputs": [
        {
          "output_type": "stream",
          "name": "stdout",
          "text": [
            "<!DOCTYPE html>\n",
            "<html lang=\"en\">\n",
            " <head id=\"Head1\">\n",
            "  <meta content=\"width=device-width, initial-scale=1.0\" name=\"viewport\"/>\n",
            "  <meta content=\"text/html;charset=utf-8\" http-equiv=\"content-type\"/>\n",
            "  <meta content=\"IE=Edge\" http-equiv=\"X-UA-Compatible\"/>\n",
            "  <meta charset=\"utf-8\"/>\n",
            "  <meta charset=\"utf-8\"/>\n",
            "  <!-- Meta Description -->\n",
            "  <meta content=\"Welcome to the official government website of the Illinois General Assembly\" name=\"description\"/>\n",
            "  <meta content=\"Legislative Information System\" name=\"contactName\"/>\n",
            "  <meta content=\"LIS Staff Services\" name=\"contactOrganization\"/>\n",
            "  <meta content=\"705 Stratton Office Building\" name=\"contactStreetAddress1\"/>\n",
            "  <meta content=\"Springfield\" name=\"contactCity\"/>\n",
            "  <meta content=\"62706\" name=\"contactZipcode\"/>\n",
            "  <meta content=\"webmaster@ilga.gov\" name=\"contactNetworkAddress\"/>\n",
            "  <meta content=\"217-782-3944\" name=\"contactPhoneNumber\"/>\n",
            "  <meta content=\"217-524-6059\" name=\"contactFaxNumber\"/>\n",
            "  <meta content=\"State Of Illinois\" name=\"originatorJur\n"
          ]
        }
      ],
      "source": [
        "# Parse the response into an HTML tree\n",
        "soup = BeautifulSoup(src, 'lxml')\n",
        "# Take a look\n",
        "print(soup.prettify()[:1000])"
      ]
    },
    {
      "cell_type": "markdown",
      "metadata": {
        "id": "gqgwGcC2dOmU"
      },
      "source": [
        "The output looks pretty similar to the above, but now it's organized in a `soup` object which allows us to more easily traverse the page."
      ]
    },
    {
      "cell_type": "markdown",
      "metadata": {
        "id": "YZGkZTISdOmU"
      },
      "source": [
        "## Step 3: Search for HTML Elements\n",
        "\n",
        "Beautiful Soup has a number of functions to find useful components on a page. Beautiful Soup lets you find elements by their:\n",
        "\n",
        "1. HTML tags\n",
        "2. HTML Attributes\n",
        "3. CSS Selectors\n",
        "\n",
        "Let's search first for **HTML tags**.\n",
        "\n",
        "The function `find_all` searches the `soup` tree to find all the elements with an a particular HTML tag, and returns all of those elements.\n",
        "\n",
        "What does the example below do?"
      ]
    },
    {
      "cell_type": "markdown",
      "source": [
        "Se busca las etiquetas tipo a con la libreria de BeautifulSoup"
      ],
      "metadata": {
        "id": "9wePtS-RnNAX"
      }
    },
    {
      "cell_type": "code",
      "execution_count": 9,
      "metadata": {
        "colab": {
          "base_uri": "https://localhost:8080/"
        },
        "id": "5PkElb88dOmU",
        "outputId": "7a07da45-af20-4228-ea16-cedc4d791b3a"
      },
      "outputs": [
        {
          "output_type": "stream",
          "name": "stdout",
          "text": [
            "[<a b-0yw6sxot5c=\"\" class=\"dropdown-item\" data-lang=\"en\" href=\"#\">\n",
            "<span b-0yw6sxot5c=\"\" class=\"flag-icon flag-icon-us\"></span> English\r\n",
            "                            </a>, <a b-0yw6sxot5c=\"\" class=\"dropdown-item\" data-lang=\"af\" href=\"#\">\n",
            "<span b-0yw6sxot5c=\"\" class=\"flag-icon flag-icon-za\"></span> Afrikaans\r\n",
            "                            </a>, <a b-0yw6sxot5c=\"\" class=\"dropdown-item\" data-lang=\"sq\" href=\"#\">\n",
            "<span b-0yw6sxot5c=\"\" class=\"flag-icon flag-icon-al\"></span> Albanian\r\n",
            "                            </a>, <a b-0yw6sxot5c=\"\" class=\"dropdown-item\" data-lang=\"ar\" href=\"#\">\n",
            "<span b-0yw6sxot5c=\"\" class=\"flag-icon flag-icon-ae\"></span> Arabic\r\n",
            "                            </a>, <a b-0yw6sxot5c=\"\" class=\"dropdown-item\" data-lang=\"hy\" href=\"#\">\n",
            "<span b-0yw6sxot5c=\"\" class=\"flag-icon flag-icon-am\"></span> Armenian\r\n",
            "                            </a>, <a b-0yw6sxot5c=\"\" class=\"dropdown-item\" data-lang=\"az\" href=\"#\">\n",
            "<span b-0yw6sxot5c=\"\" class=\"flag-icon flag-icon-az\"></span> Azerbaijani\r\n",
            "                            </a>, <a b-0yw6sxot5c=\"\" class=\"dropdown-item\" data-lang=\"eu\" href=\"#\">\n",
            "<span b-0yw6sxot5c=\"\" class=\"flag-icon flag-icon-eu\"></span> Basque\r\n",
            "                            </a>, <a b-0yw6sxot5c=\"\" class=\"dropdown-item\" data-lang=\"bn\" href=\"#\">\n",
            "<span b-0yw6sxot5c=\"\" class=\"flag-icon flag-icon-bd\"></span> Bengali\r\n",
            "                            </a>, <a b-0yw6sxot5c=\"\" class=\"dropdown-item\" data-lang=\"bs\" href=\"#\">\n",
            "<span b-0yw6sxot5c=\"\" class=\"flag-icon flag-icon-ba\"></span> Bosnian\r\n",
            "                            </a>, <a b-0yw6sxot5c=\"\" class=\"dropdown-item\" data-lang=\"ca\" href=\"#\">\n",
            "<span b-0yw6sxot5c=\"\" class=\"flag-icon flag-icon-es\"></span> Catalan\r\n",
            "                            </a>]\n"
          ]
        }
      ],
      "source": [
        "# Find all elements with a certain tag\n",
        "a_tags = soup.find_all(\"a\")\n",
        "print(a_tags[:10])"
      ]
    },
    {
      "cell_type": "markdown",
      "metadata": {
        "id": "uA8ST4lXdOmU"
      },
      "source": [
        "Because `find_all()` is the most popular method in the Beautiful Soup search API, you can use a shortcut for it. If you treat the BeautifulSoup object as though it were a function, then it’s the same as calling `find_all()` on that object.\n",
        "\n",
        "These two lines of code are equivalent:"
      ]
    },
    {
      "cell_type": "code",
      "execution_count": 10,
      "metadata": {
        "tags": [],
        "colab": {
          "base_uri": "https://localhost:8080/"
        },
        "id": "WaqbKAHDdOmU",
        "outputId": "c50c651b-e66b-4867-b7af-d1f84f9856fb"
      },
      "outputs": [
        {
          "output_type": "stream",
          "name": "stdout",
          "text": [
            "<a b-0yw6sxot5c=\"\" class=\"dropdown-item\" data-lang=\"en\" href=\"#\">\n",
            "<span b-0yw6sxot5c=\"\" class=\"flag-icon flag-icon-us\"></span> English\r\n",
            "                            </a>\n",
            "<a b-0yw6sxot5c=\"\" class=\"dropdown-item\" data-lang=\"en\" href=\"#\">\n",
            "<span b-0yw6sxot5c=\"\" class=\"flag-icon flag-icon-us\"></span> English\r\n",
            "                            </a>\n"
          ]
        }
      ],
      "source": [
        "a_tags = soup.find_all(\"a\")\n",
        "a_tags_alt = soup(\"a\")\n",
        "print(a_tags[0])\n",
        "print(a_tags_alt[0])"
      ]
    },
    {
      "cell_type": "markdown",
      "metadata": {
        "id": "mosxZ2KsdOmV"
      },
      "source": [
        "How many links did we obtain?"
      ]
    },
    {
      "cell_type": "code",
      "execution_count": 11,
      "metadata": {
        "colab": {
          "base_uri": "https://localhost:8080/"
        },
        "id": "vCYO3gpTdOmV",
        "outputId": "4be8e988-28f0-41de-8134-56adeba39fec"
      },
      "outputs": [
        {
          "output_type": "stream",
          "name": "stdout",
          "text": [
            "270\n"
          ]
        }
      ],
      "source": [
        "print(len(a_tags))"
      ]
    },
    {
      "cell_type": "markdown",
      "metadata": {
        "id": "o_hq8dK9dOmV"
      },
      "source": [
        "That's a lot! Many elements on a page will have the same HTML tag. For instance, if you search for everything with the `a` tag, you're likely to get more hits, many of which you might not want. Remember, the `a` tag defines a hyperlink, so you'll usually find many on any given page.\n",
        "\n",
        "What if we wanted to search for HTML tags with certain attributes, such as particular CSS classes?\n",
        "\n",
        "We can do this by adding an additional argument to the `find_all`. In the example below, we are finding all the `a` tags, and then filtering those with `class_=\"sidemenu\"`."
      ]
    },
    {
      "cell_type": "code",
      "execution_count": 39,
      "metadata": {
        "tags": [],
        "colab": {
          "base_uri": "https://localhost:8080/"
        },
        "id": "b9Z3utw9dOmV",
        "outputId": "6c37316e-8f0a-452c-eeab-4326fde12115"
      },
      "outputs": [
        {
          "output_type": "execute_result",
          "data": {
            "text/plain": [
              "[]"
            ]
          },
          "metadata": {},
          "execution_count": 39
        }
      ],
      "source": [
        "# Get only the 'a' tags in 'sidemenu' class\n",
        "side_menus = soup(\"a\", class_=\"sidemenu\")\n",
        "side_menus[:5]"
      ]
    },
    {
      "cell_type": "markdown",
      "source": [
        "NO existe resultado dado que no existe una clase sidemenu dado que se redirecciona a la URL https://www.ilga.gov/Senate/Members, por lo tanto se trabajara con el elemento de clase member-card para obtener la información de cada candidato para validar los resultados:"
      ],
      "metadata": {
        "id": "vslDfFgEhGbH"
      }
    },
    {
      "cell_type": "code",
      "source": [
        "members = soup.find_all(\"div\", class_=\"member-card mb-4\")\n",
        "members[:5]"
      ],
      "metadata": {
        "colab": {
          "base_uri": "https://localhost:8080/"
        },
        "id": "cwdCheVykCpL",
        "outputId": "683b5129-b729-45df-ec71-0dce135b94e0"
      },
      "execution_count": 55,
      "outputs": [
        {
          "output_type": "execute_result",
          "data": {
            "text/plain": [
              "[<div class=\"member-card mb-4\" onclick=\"goToURL('Members/Details/3312')\" style=\"background-image: url('https://cdn.ilga.gov/assets/img/members/%7B90CDA259-1DEA-4D18-AE97-30051E03D154%7D.jpg');\">\n",
              " <div class=\"member-overlay\">\n",
              " <h5 class=\"card-title\"><a class=\"notranslate\" href=\"/Senate/Members/Details/3312\">Neil Anderson</a> (R)</h5>\n",
              " <p class=\"card-text\">\n",
              "                                             Republican Caucus Chair\n",
              "                                             <br/>47th District\n",
              "                                         </p>\n",
              " </div>\n",
              " </div>,\n",
              " <div class=\"member-card mb-4\" onclick=\"goToURL('Members/Details/3312')\" style=\"background-image: url('https://cdn.ilga.gov/assets/img/members/%7B90CDA259-1DEA-4D18-AE97-30051E03D154%7D.jpg');\">\n",
              " <div class=\"member-overlay\">\n",
              " <h5 class=\"card-title\"><a class=\"notranslate\" href=\"/Senate/Members/Details/3312\">Neil Anderson</a> (R)</h5>\n",
              " <p class=\"card-text\">\n",
              "                                             Republican Caucus Chair\n",
              "                                             <br/>47th District\n",
              "                                         </p>\n",
              " </div>\n",
              " </div>,\n",
              " <div class=\"member-card mb-4\" onclick=\"goToURL('Members/Details/3316')\" style=\"background-image: url('https://cdn.ilga.gov/assets/img/members/%7B79A5CDE2-DD9F-423E-83F0-4643FDB13ABB%7D.jpg');\">\n",
              " <div class=\"member-overlay\">\n",
              " <h5 class=\"card-title\"><a class=\"notranslate\" href=\"/Senate/Members/Details/3316\">Omar Aquino</a> (D)</h5>\n",
              " <p class=\"card-text\">\n",
              "                                             Majority Caucus Chair\n",
              "                                             <br/>2nd District\n",
              "                                         </p>\n",
              " </div>\n",
              " </div>,\n",
              " <div class=\"member-card mb-4\" onclick=\"goToURL('Members/Details/3316')\" style=\"background-image: url('https://cdn.ilga.gov/assets/img/members/%7B79A5CDE2-DD9F-423E-83F0-4643FDB13ABB%7D.jpg');\">\n",
              " <div class=\"member-overlay\">\n",
              " <h5 class=\"card-title\"><a class=\"notranslate\" href=\"/Senate/Members/Details/3316\">Omar Aquino</a> (D)</h5>\n",
              " <p class=\"card-text\">\n",
              "                                             Majority Caucus Chair\n",
              "                                             <br/>2nd District\n",
              "                                         </p>\n",
              " </div>\n",
              " </div>,\n",
              " <div class=\"member-card mb-4\" onclick=\"goToURL('Members/Details/3383')\" style=\"background-image: url('https://cdn.ilga.gov/assets/img/members/%7B90648554-4D16-4FEE-AC7E-4A8A7872B885%7D.jpg');\">\n",
              " <div class=\"member-overlay\">\n",
              " <h5 class=\"card-title\"><a class=\"notranslate\" href=\"/Senate/Members/Details/3383\">Li Arellano, Jr.</a> (R)</h5>\n",
              " <p class=\"card-text\">\n",
              "                                             Senator\n",
              "                                             <br/>37th District\n",
              "                                         </p>\n",
              " </div>\n",
              " </div>]"
            ]
          },
          "metadata": {},
          "execution_count": 55
        }
      ]
    },
    {
      "cell_type": "markdown",
      "source": [
        "Aqui se extraia con el select los elementos tipo a que se enecuentren dentro de la clase sidemenu, lo  cual por lo antes mencionado no retornara nada."
      ],
      "metadata": {
        "id": "8P4n-ZNfnyU6"
      }
    },
    {
      "cell_type": "markdown",
      "metadata": {
        "id": "H75iFPPKdOmW"
      },
      "source": [
        "A more efficient way to search for elements on a website is via a **CSS selector**. For this we have to use a different method called `select()`. Just pass a string into the `.select()` to get all elements with that string as a valid CSS selector.\n",
        "\n",
        "In the example above, we can use `\"a.sidemenu\"` as a CSS selector, which returns all `a` tags with class `sidemenu`."
      ]
    },
    {
      "cell_type": "code",
      "execution_count": 58,
      "metadata": {
        "tags": [],
        "colab": {
          "base_uri": "https://localhost:8080/"
        },
        "id": "Bb6tLHBldOmW",
        "outputId": "b88ed173-7fa2-4395-dfd9-918696246447"
      },
      "outputs": [
        {
          "output_type": "execute_result",
          "data": {
            "text/plain": [
              "[]"
            ]
          },
          "metadata": {},
          "execution_count": 58
        }
      ],
      "source": [
        "# Get elements with \"a.sidemenu\" CSS Selector.\n",
        "selected = soup.select(\"a.sidemenu\")\n",
        "selected[:5]"
      ]
    },
    {
      "cell_type": "markdown",
      "metadata": {
        "id": "0SZDFkdAdOmW"
      },
      "source": [
        "## 🥊 Challenge: Find All\n",
        "\n",
        "Use BeautifulSoup to find all the `a` elements with class `mainmenu`."
      ]
    },
    {
      "cell_type": "markdown",
      "source": [
        "En este caso la solución seria, sin emabargo, no existe una clase mainmenu"
      ],
      "metadata": {
        "id": "lWOS7qvTiI4l"
      }
    },
    {
      "cell_type": "code",
      "execution_count": 18,
      "metadata": {
        "colab": {
          "base_uri": "https://localhost:8080/"
        },
        "id": "VJchf0ZddOmW",
        "outputId": "2f1cb81a-d0d9-4de5-e8a8-9269fd1f640c"
      },
      "outputs": [
        {
          "output_type": "execute_result",
          "data": {
            "text/plain": [
              "[]"
            ]
          },
          "metadata": {},
          "execution_count": 18
        }
      ],
      "source": [
        "soup.select(\"a.mainmenu\")"
      ]
    },
    {
      "cell_type": "markdown",
      "metadata": {
        "id": "lfdboiKadOmW"
      },
      "source": [
        "## Step 4: Get Attributes and Text of Elements\n",
        "\n",
        "Once we identify elements, we want the access information in that element. Usually, this means two things:\n",
        "\n",
        "1. Text\n",
        "2. Attributes\n",
        "\n",
        "Getting the text inside an element is easy. All we have to do is use the `text` member of a `tag` object:"
      ]
    },
    {
      "cell_type": "code",
      "execution_count": 73,
      "metadata": {
        "tags": [],
        "colab": {
          "base_uri": "https://localhost:8080/"
        },
        "id": "i_WniKsrdOmW",
        "outputId": "56e8bc5b-6545-4121-e538-1b56431a0b10"
      },
      "outputs": [
        {
          "output_type": "stream",
          "name": "stdout",
          "text": [
            "<a class=\"notranslate\" href=\"/Senate/Members/Details/3312\">Neil Anderson</a>\n",
            "Class:  <class 'bs4.element.Tag'>\n"
          ]
        }
      ],
      "source": [
        "# Get all member-card links as a list\n",
        "side_menu_links = soup.select(\"div.member-card.mb-4 .notranslate\")\n",
        "\n",
        "# Examine the first link\n",
        "first_link = side_menu_links[1]\n",
        "print(first_link)\n",
        "\n",
        "# What class is this variable?\n",
        "print('Class: ', type(first_link))"
      ]
    },
    {
      "cell_type": "markdown",
      "source": [
        "En este caso se extrajo el tipo de clase de las tarjetas donde se encuentran los senadores en el elemento de clase notranslate\n"
      ],
      "metadata": {
        "id": "EVkqg3PYqufd"
      }
    },
    {
      "cell_type": "markdown",
      "metadata": {
        "id": "Z6omje3HdOmX"
      },
      "source": [
        "It's a Beautiful Soup tag! This means it has a `text` member:"
      ]
    },
    {
      "cell_type": "markdown",
      "source": [
        "Aqui se imprime el texto que se encuentra en el atributo seleccionado, en este caso el Nombre del Senador"
      ],
      "metadata": {
        "id": "o4tYbB5UrGMy"
      }
    },
    {
      "cell_type": "code",
      "execution_count": 74,
      "metadata": {
        "tags": [],
        "colab": {
          "base_uri": "https://localhost:8080/"
        },
        "id": "DiCSkXKOdOmX",
        "outputId": "cc6e0499-ef1f-40ea-81f3-b4537b23c021"
      },
      "outputs": [
        {
          "output_type": "stream",
          "name": "stdout",
          "text": [
            "Neil Anderson\n"
          ]
        }
      ],
      "source": [
        "print(first_link.text)"
      ]
    },
    {
      "cell_type": "markdown",
      "metadata": {
        "id": "A6zNKjagdOmX"
      },
      "source": [
        "Sometimes we want the value of certain attributes. This is particularly relevant for `a` tags, or links, where the `href` attribute tells us where the link goes.\n",
        "\n",
        "💡 **Tip**: You can access a tag’s attributes by treating the tag like a dictionary:"
      ]
    },
    {
      "cell_type": "code",
      "execution_count": 75,
      "metadata": {
        "tags": [],
        "colab": {
          "base_uri": "https://localhost:8080/"
        },
        "id": "cwR9rYzpdOmX",
        "outputId": "dd512db4-566d-4daf-c391-8ea3198f074e"
      },
      "outputs": [
        {
          "output_type": "stream",
          "name": "stdout",
          "text": [
            "/Senate/Members/Details/3312\n"
          ]
        }
      ],
      "source": [
        "print(first_link['href'])"
      ]
    },
    {
      "cell_type": "markdown",
      "metadata": {
        "id": "skwGQFCidOmX"
      },
      "source": [
        "## 🥊 Challenge: Extract specific attributes\n",
        "\n",
        "Extract all `href` attributes for each `mainmenu` URL."
      ]
    },
    {
      "cell_type": "code",
      "execution_count": 76,
      "metadata": {
        "id": "EMTdD_YLdOmX",
        "colab": {
          "base_uri": "https://localhost:8080/"
        },
        "outputId": "0d033771-f3fd-4278-8262-25cee778e433"
      },
      "outputs": [
        {
          "output_type": "execute_result",
          "data": {
            "text/plain": [
              "[]"
            ]
          },
          "metadata": {},
          "execution_count": 76
        }
      ],
      "source": [
        "[link['href'] for link in soup.select(\"a.mainmenu\")]\n"
      ]
    },
    {
      "cell_type": "markdown",
      "source": [
        "Aqui se obtiene los atributos href del mainmenu, lo que resuelve el valor vacio, aplicando lo mismo al atributo de notranslate\n"
      ],
      "metadata": {
        "id": "9fOeUBYRqNA6"
      }
    },
    {
      "cell_type": "code",
      "source": [
        "cards = soup.select(\"div.member-card.mb-4\")\n",
        "\n",
        "senadores = []\n",
        "\n",
        "for card in cards:\n",
        "    # Dentro de cada tarjeta buscamos todos los elementos con clase 'notranslate'\n",
        "    datos = [el.get_text(strip=True) for el in card.select(\".notranslate\")]\n",
        "\n",
        "    # Guardamos los datos (nombre, distrito, partido, etc.)\n",
        "    senadores.append(datos)\n",
        "\n",
        "# Mostramos los resultados\n",
        "for idx, s in enumerate(senadores, start=1):\n",
        "    print(f\"Senador {idx}: {s}\")"
      ],
      "metadata": {
        "colab": {
          "base_uri": "https://localhost:8080/"
        },
        "id": "bINUZbgVqMr8",
        "outputId": "e3d0982c-5fc3-4339-c72f-21be5882852c"
      },
      "execution_count": 77,
      "outputs": [
        {
          "output_type": "stream",
          "name": "stdout",
          "text": [
            "Senador 1: ['Neil Anderson']\n",
            "Senador 2: ['Neil Anderson']\n",
            "Senador 3: ['Omar Aquino']\n",
            "Senador 4: ['Omar Aquino']\n",
            "Senador 5: ['Li Arellano, Jr.']\n",
            "Senador 6: ['Li Arellano, Jr.']\n",
            "Senador 7: ['Chris Balkema']\n",
            "Senador 8: ['Chris Balkema']\n",
            "Senador 9: ['Christopher Belt']\n",
            "Senador 10: ['Christopher Belt']\n",
            "Senador 11: ['Terri Bryant']\n",
            "Senador 12: ['Terri Bryant']\n",
            "Senador 13: ['Cristina Castro']\n",
            "Senador 14: ['Cristina Castro']\n",
            "Senador 15: ['Javier L. Cervantes']\n",
            "Senador 16: ['Javier L. Cervantes']\n",
            "Senador 17: ['Andrew S. Chesney']\n",
            "Senador 18: ['Andrew S. Chesney']\n",
            "Senador 19: ['Lakesia Collins']\n",
            "Senador 20: ['Lakesia Collins']\n",
            "Senador 21: ['Bill Cunningham']\n",
            "Senador 22: ['Bill Cunningham']\n",
            "Senador 23: ['John F. Curran']\n",
            "Senador 24: ['John F. Curran']\n",
            "Senador 25: ['Donald P. DeWitte']\n",
            "Senador 26: ['Donald P. DeWitte']\n",
            "Senador 27: ['Mary Edly-Allen']\n",
            "Senador 28: ['Mary Edly-Allen']\n",
            "Senador 29: ['Laura Ellman']\n",
            "Senador 30: ['Laura Ellman']\n",
            "Senador 31: ['Paul Faraci']\n",
            "Senador 32: ['Paul Faraci']\n",
            "Senador 33: ['Sara Feigenholtz']\n",
            "Senador 34: ['Sara Feigenholtz']\n",
            "Senador 35: ['Laura Fine']\n",
            "Senador 36: ['Laura Fine']\n",
            "Senador 37: ['Dale Fowler']\n",
            "Senador 38: ['Dale Fowler']\n",
            "Senador 39: ['Suzy Glowiak Hilton']\n",
            "Senador 40: ['Suzy Glowiak Hilton']\n",
            "Senador 41: ['Graciela Guzmán']\n",
            "Senador 42: ['Graciela Guzmán']\n",
            "Senador 43: ['Michael W. Halpin']\n",
            "Senador 44: ['Michael W. Halpin']\n",
            "Senador 45: ['Don Harmon']\n",
            "Senador 46: ['Don Harmon']\n",
            "Senador 47: ['Napoleon Harris, III']\n",
            "Senador 48: ['Napoleon Harris, III']\n",
            "Senador 49: ['Erica Harriss']\n",
            "Senador 50: ['Erica Harriss']\n",
            "Senador 51: ['Michael E. Hastings']\n",
            "Senador 52: ['Michael E. Hastings']\n",
            "Senador 53: ['Darby A. Hills']\n",
            "Senador 54: ['Darby A. Hills']\n",
            "Senador 55: ['Linda Holmes']\n",
            "Senador 56: ['Linda Holmes']\n",
            "Senador 57: ['Mattie Hunter']\n",
            "Senador 58: ['Mattie Hunter']\n",
            "Senador 59: ['Adriane Johnson']\n",
            "Senador 60: ['Adriane Johnson']\n",
            "Senador 61: ['Emil Jones, III']\n",
            "Senador 62: ['Emil Jones, III']\n",
            "Senador 63: ['Patrick J. Joyce']\n",
            "Senador 64: ['Patrick J. Joyce']\n",
            "Senador 65: ['David Koehler']\n",
            "Senador 66: ['David Koehler']\n",
            "Senador 67: ['Seth Lewis']\n",
            "Senador 68: ['Seth Lewis']\n",
            "Senador 69: ['Kimberly A. Lightford']\n",
            "Senador 70: ['Kimberly A. Lightford']\n",
            "Senador 71: ['Meg Loughran Cappel']\n",
            "Senador 72: ['Meg Loughran Cappel']\n",
            "Senador 73: ['Robert F. Martwick']\n",
            "Senador 74: ['Robert F. Martwick']\n",
            "Senador 75: ['Steve McClure']\n",
            "Senador 76: ['Steve McClure']\n",
            "Senador 77: ['Julie A. Morrison']\n",
            "Senador 78: ['Julie A. Morrison']\n",
            "Senador 79: ['Laura M. Murphy']\n",
            "Senador 80: ['Laura M. Murphy']\n",
            "Senador 81: ['Robert Peters']\n",
            "Senador 82: ['Robert Peters']\n",
            "Senador 83: ['Jason Plummer']\n",
            "Senador 84: ['Jason Plummer']\n",
            "Senador 85: ['Mike Porfirio']\n",
            "Senador 86: ['Mike Porfirio']\n",
            "Senador 87: ['Willie Preston']\n",
            "Senador 88: ['Willie Preston']\n",
            "Senador 89: ['Sue Rezin']\n",
            "Senador 90: ['Sue Rezin']\n",
            "Senador 91: ['Chapin Rose']\n",
            "Senador 92: ['Chapin Rose']\n",
            "Senador 93: ['Mike Simmons']\n",
            "Senador 94: ['Mike Simmons']\n",
            "Senador 95: ['Elgie R. Sims, Jr.']\n",
            "Senador 96: ['Elgie R. Sims, Jr.']\n",
            "Senador 97: ['Steve Stadelman']\n",
            "Senador 98: ['Steve Stadelman']\n",
            "Senador 99: ['Dave Syverson']\n",
            "Senador 100: ['Dave Syverson']\n",
            "Senador 101: ['Jil Tracy']\n",
            "Senador 102: ['Jil Tracy']\n",
            "Senador 103: ['Doris Turner']\n",
            "Senador 104: ['Doris Turner']\n",
            "Senador 105: ['Sally J. Turner']\n",
            "Senador 106: ['Sally J. Turner']\n",
            "Senador 107: ['Rachel Ventura']\n",
            "Senador 108: ['Rachel Ventura']\n",
            "Senador 109: ['Karina Villa']\n",
            "Senador 110: ['Karina Villa']\n",
            "Senador 111: ['Celina Villanueva']\n",
            "Senador 112: ['Celina Villanueva']\n",
            "Senador 113: ['Ram Villivalam']\n",
            "Senador 114: ['Ram Villivalam']\n",
            "Senador 115: ['Mark L. Walker']\n",
            "Senador 116: ['Mark L. Walker']\n",
            "Senador 117: ['Craig Wilcox']\n",
            "Senador 118: ['Craig Wilcox']\n",
            "Senador 119: ['Dan McConchie']\n",
            "Senador 120: ['Dan McConchie']\n"
          ]
        }
      ]
    },
    {
      "cell_type": "markdown",
      "metadata": {
        "id": "S2lDyjABdOmY"
      },
      "source": [
        "<a id='scrape'></a>\n",
        "\n",
        "# Scraping the Illinois General Assembly\n",
        "\n",
        "Believe it or not, those are really the fundamental tools you need to scrape a website. Once you spend more time familiarizing yourself with HTML and CSS, then it's simply a matter of understanding the structure of a particular website and intelligently applying the tools of Beautiful Soup and Python.\n",
        "\n",
        "Let's apply these skills to scrape the [Illinois 98th General Assembly](http://www.ilga.gov/senate/default.asp?GA=98).\n",
        "\n",
        "Specifically, our goal is to scrape information on each senator, including their name, district, and party."
      ]
    },
    {
      "cell_type": "markdown",
      "source": [
        "# Ahora se aplicara el ejercicio en la pagina de los miembros de la 98va asamblea"
      ],
      "metadata": {
        "id": "8QQWuzgFsW9m"
      }
    },
    {
      "cell_type": "markdown",
      "metadata": {
        "id": "GCaMw6iTdOmY"
      },
      "source": [
        "## Scrape and Soup the Webpage\n",
        "\n",
        "Let's scrape and parse the webpage, using the tools we learned in the previous section."
      ]
    },
    {
      "cell_type": "code",
      "execution_count": 79,
      "metadata": {
        "tags": [],
        "id": "th0kDPkEdOmY"
      },
      "outputs": [],
      "source": [
        "# Make a GET request\n",
        "req = requests.get('http://www.ilga.gov/senate/default.asp?GA=98')\n",
        "# Read the content of the server’s response\n",
        "src = req.text\n",
        "# Soup it\n",
        "soup = BeautifulSoup(src, \"lxml\")"
      ]
    },
    {
      "cell_type": "markdown",
      "metadata": {
        "id": "oG8sbFEbdOmY"
      },
      "source": [
        "## Search for the Table Elements\n",
        "\n",
        "Our goal is to obtain the elements in the table on the webpage. Remember: rows are identified by the `tr` tag. Let's use `find_all` to obtain these elements."
      ]
    },
    {
      "cell_type": "code",
      "execution_count": 81,
      "metadata": {
        "id": "UMFmoO9cdOmZ",
        "colab": {
          "base_uri": "https://localhost:8080/"
        },
        "outputId": "0e439534-8d1a-407f-f333-4bfe928eb30d"
      },
      "outputs": [
        {
          "output_type": "execute_result",
          "data": {
            "text/plain": [
              "0"
            ]
          },
          "metadata": {},
          "execution_count": 81
        }
      ],
      "source": [
        "# Get all table row elements\n",
        "rows = soup.find_all(\"tr\")\n",
        "len(rows)"
      ]
    },
    {
      "cell_type": "markdown",
      "source": [
        "No se obtienen resultador dado que no existe la pagina que se busca y seguimos en la apgina de miembros del senado, en esta pagina no se tiene los tags tr como se puede ver en el conteo = 0"
      ],
      "metadata": {
        "id": "cYp5F5bHs22E"
      }
    },
    {
      "cell_type": "markdown",
      "metadata": {
        "id": "zxEPz7Q4dOma"
      },
      "source": [
        "⚠️ **Warning**: Keep in mind: `find_all` gets *all* the elements with the `tr` tag. We only want some of them. If we use the 'Inspect' function in Google Chrome and look carefully, then we can use some CSS selectors to get just the rows we're interested in. Specifically, we want the inner rows of the table:"
      ]
    },
    {
      "cell_type": "code",
      "execution_count": 83,
      "metadata": {
        "id": "zAC3uaYNdOma"
      },
      "outputs": [],
      "source": [
        "# Returns every ‘tr tr tr’ css selector in the page\n",
        "rows = soup.select('tr tr tr')\n",
        "\n",
        "for row in rows[:5]:\n",
        "    print(row, '\\n')"
      ]
    },
    {
      "cell_type": "markdown",
      "metadata": {
        "id": "g-2OGWTwdOma"
      },
      "source": [
        "It looks like we want everything after the first two rows. Let's work with a single row to start, and build our loop from there."
      ]
    },
    {
      "cell_type": "code",
      "execution_count": 86,
      "metadata": {
        "id": "C0D3YzpfdOmb",
        "colab": {
          "base_uri": "https://localhost:8080/",
          "height": 159
        },
        "outputId": "55189b61-395f-4650-97ba-9a781a1c5975"
      },
      "outputs": [
        {
          "output_type": "error",
          "ename": "IndexError",
          "evalue": "list index out of range",
          "traceback": [
            "\u001b[0;31m---------------------------------------------------------------------------\u001b[0m",
            "\u001b[0;31mIndexError\u001b[0m                                Traceback (most recent call last)",
            "\u001b[0;32m/tmp/ipython-input-2984968668.py\u001b[0m in \u001b[0;36m<cell line: 0>\u001b[0;34m()\u001b[0m\n\u001b[0;32m----> 1\u001b[0;31m \u001b[0mexample_row\u001b[0m \u001b[0;34m=\u001b[0m \u001b[0mrows\u001b[0m\u001b[0;34m[\u001b[0m\u001b[0;36m2\u001b[0m\u001b[0;34m]\u001b[0m\u001b[0;34m\u001b[0m\u001b[0;34m\u001b[0m\u001b[0m\n\u001b[0m\u001b[1;32m      2\u001b[0m \u001b[0mprint\u001b[0m\u001b[0;34m(\u001b[0m\u001b[0mexample_row\u001b[0m\u001b[0;34m.\u001b[0m\u001b[0mprettify\u001b[0m\u001b[0;34m(\u001b[0m\u001b[0;34m)\u001b[0m\u001b[0;34m)\u001b[0m\u001b[0;34m\u001b[0m\u001b[0;34m\u001b[0m\u001b[0m\n",
            "\u001b[0;31mIndexError\u001b[0m: list index out of range"
          ]
        }
      ],
      "source": [
        "example_row = rows[2]\n",
        "print(example_row.prettify())"
      ]
    },
    {
      "cell_type": "markdown",
      "source": [
        "*Devuelve error dado que no se tienen elementos y la lista en la posicion 3 no tiene valores*"
      ],
      "metadata": {
        "id": "YTdfwLVatLj7"
      }
    },
    {
      "cell_type": "markdown",
      "metadata": {
        "id": "aWwrPnBfdOmb"
      },
      "source": [
        "Let's break this row down into its component cells/columns using the `select` method with CSS selectors. Looking closely at the HTML, there are a couple of ways we could do this.\n",
        "\n",
        "* We could identify the cells by their tag `td`.\n",
        "* We could use the the class name `.detail`.\n",
        "* We could combine both and use the selector `td.detail`."
      ]
    },
    {
      "cell_type": "code",
      "execution_count": 85,
      "metadata": {
        "id": "hPA4vxzbdOmb",
        "colab": {
          "base_uri": "https://localhost:8080/",
          "height": 211
        },
        "outputId": "ff5a41c5-1844-41c1-a830-0c941c82e4f4"
      },
      "outputs": [
        {
          "output_type": "error",
          "ename": "NameError",
          "evalue": "name 'example_row' is not defined",
          "traceback": [
            "\u001b[0;31m---------------------------------------------------------------------------\u001b[0m",
            "\u001b[0;31mNameError\u001b[0m                                 Traceback (most recent call last)",
            "\u001b[0;32m/tmp/ipython-input-3211526006.py\u001b[0m in \u001b[0;36m<cell line: 0>\u001b[0;34m()\u001b[0m\n\u001b[0;32m----> 1\u001b[0;31m \u001b[0;32mfor\u001b[0m \u001b[0mcell\u001b[0m \u001b[0;32min\u001b[0m \u001b[0mexample_row\u001b[0m\u001b[0;34m.\u001b[0m\u001b[0mselect\u001b[0m\u001b[0;34m(\u001b[0m\u001b[0;34m'td'\u001b[0m\u001b[0;34m)\u001b[0m\u001b[0;34m:\u001b[0m\u001b[0;34m\u001b[0m\u001b[0;34m\u001b[0m\u001b[0m\n\u001b[0m\u001b[1;32m      2\u001b[0m     \u001b[0mprint\u001b[0m\u001b[0;34m(\u001b[0m\u001b[0mcell\u001b[0m\u001b[0;34m)\u001b[0m\u001b[0;34m\u001b[0m\u001b[0;34m\u001b[0m\u001b[0m\n\u001b[1;32m      3\u001b[0m \u001b[0mprint\u001b[0m\u001b[0;34m(\u001b[0m\u001b[0;34m)\u001b[0m\u001b[0;34m\u001b[0m\u001b[0;34m\u001b[0m\u001b[0m\n\u001b[1;32m      4\u001b[0m \u001b[0;34m\u001b[0m\u001b[0m\n\u001b[1;32m      5\u001b[0m \u001b[0;32mfor\u001b[0m \u001b[0mcell\u001b[0m \u001b[0;32min\u001b[0m \u001b[0mexample_row\u001b[0m\u001b[0;34m.\u001b[0m\u001b[0mselect\u001b[0m\u001b[0;34m(\u001b[0m\u001b[0;34m'.detail'\u001b[0m\u001b[0;34m)\u001b[0m\u001b[0;34m:\u001b[0m\u001b[0;34m\u001b[0m\u001b[0;34m\u001b[0m\u001b[0m\n",
            "\u001b[0;31mNameError\u001b[0m: name 'example_row' is not defined"
          ]
        }
      ],
      "source": [
        "for cell in example_row.select('td'):\n",
        "    print(cell)\n",
        "print()\n",
        "\n",
        "for cell in example_row.select('.detail'):\n",
        "    print(cell)\n",
        "print()\n",
        "\n",
        "for cell in example_row.select('td.detail'):\n",
        "    print(cell)\n",
        "print()"
      ]
    },
    {
      "cell_type": "markdown",
      "source": [
        "*Se tiene error dado que example_row no se definio dado que no se tienen elementos tr*, para esto se realizara el mismo ejercicio con el elemento \"card-title\""
      ],
      "metadata": {
        "id": "KCgqIGPatmiO"
      }
    },
    {
      "cell_type": "code",
      "source": [
        "titles = soup.select(\".card-title\")\n",
        "\n",
        "# Mostramos los primeros 5 resultados\n",
        "for idx, title in enumerate(titles[:5], start=1):\n",
        "    print(f\"Título {idx}: {title.get_text(strip=True)}\")"
      ],
      "metadata": {
        "colab": {
          "base_uri": "https://localhost:8080/"
        },
        "id": "8QYArSqkuKkJ",
        "outputId": "f627ed8f-462b-4e23-a1ab-f18e341d9247"
      },
      "execution_count": 88,
      "outputs": [
        {
          "output_type": "stream",
          "name": "stdout",
          "text": [
            "Título 1: Neil Anderson(R)\n",
            "Título 2: Neil Anderson(R)\n",
            "Título 3: Omar Aquino(D)\n",
            "Título 4: Omar Aquino(D)\n",
            "Título 5: Li Arellano, Jr.(R)\n"
          ]
        }
      ]
    },
    {
      "cell_type": "markdown",
      "metadata": {
        "id": "2cB06R4ddOmb"
      },
      "source": [
        "We can confirm that these are all the same."
      ]
    },
    {
      "cell_type": "markdown",
      "source": [
        "Con el assert validamos que los resultados sean identicos para los elementos td"
      ],
      "metadata": {
        "id": "73xmcrKzutjG"
      }
    },
    {
      "cell_type": "code",
      "execution_count": 89,
      "metadata": {
        "tags": [],
        "id": "EyhKbzGIdOmb",
        "colab": {
          "base_uri": "https://localhost:8080/",
          "height": 159
        },
        "outputId": "5fdc8f10-01d9-4daa-dff9-4e5cd5c69f64"
      },
      "outputs": [
        {
          "output_type": "error",
          "ename": "NameError",
          "evalue": "name 'example_row' is not defined",
          "traceback": [
            "\u001b[0;31m---------------------------------------------------------------------------\u001b[0m",
            "\u001b[0;31mNameError\u001b[0m                                 Traceback (most recent call last)",
            "\u001b[0;32m/tmp/ipython-input-973451122.py\u001b[0m in \u001b[0;36m<cell line: 0>\u001b[0;34m()\u001b[0m\n\u001b[0;32m----> 1\u001b[0;31m \u001b[0;32massert\u001b[0m \u001b[0mexample_row\u001b[0m\u001b[0;34m.\u001b[0m\u001b[0mselect\u001b[0m\u001b[0;34m(\u001b[0m\u001b[0;34m'td'\u001b[0m\u001b[0;34m)\u001b[0m \u001b[0;34m==\u001b[0m \u001b[0mexample_row\u001b[0m\u001b[0;34m.\u001b[0m\u001b[0mselect\u001b[0m\u001b[0;34m(\u001b[0m\u001b[0;34m'.detail'\u001b[0m\u001b[0;34m)\u001b[0m \u001b[0;34m==\u001b[0m \u001b[0mexample_row\u001b[0m\u001b[0;34m.\u001b[0m\u001b[0mselect\u001b[0m\u001b[0;34m(\u001b[0m\u001b[0;34m'td.detail'\u001b[0m\u001b[0;34m)\u001b[0m\u001b[0;34m\u001b[0m\u001b[0;34m\u001b[0m\u001b[0m\n\u001b[0m",
            "\u001b[0;31mNameError\u001b[0m: name 'example_row' is not defined"
          ]
        }
      ],
      "source": [
        "assert example_row.select('td') == example_row.select('.detail') == example_row.select('td.detail')"
      ]
    },
    {
      "cell_type": "markdown",
      "metadata": {
        "id": "IWCIF8xjdOmb"
      },
      "source": [
        "Let's use the selector `td.detail` to be as specific as possible."
      ]
    },
    {
      "cell_type": "code",
      "execution_count": 90,
      "metadata": {
        "id": "nVNo4IGOdOmb",
        "colab": {
          "base_uri": "https://localhost:8080/",
          "height": 176
        },
        "outputId": "fce2658b-14ff-4e4b-a05b-fa21a6e8c33b"
      },
      "outputs": [
        {
          "output_type": "error",
          "ename": "NameError",
          "evalue": "name 'example_row' is not defined",
          "traceback": [
            "\u001b[0;31m---------------------------------------------------------------------------\u001b[0m",
            "\u001b[0;31mNameError\u001b[0m                                 Traceback (most recent call last)",
            "\u001b[0;32m/tmp/ipython-input-2524550196.py\u001b[0m in \u001b[0;36m<cell line: 0>\u001b[0;34m()\u001b[0m\n\u001b[1;32m      1\u001b[0m \u001b[0;31m# Select only those 'td' tags with class 'detail'\u001b[0m\u001b[0;34m\u001b[0m\u001b[0;34m\u001b[0m\u001b[0m\n\u001b[0;32m----> 2\u001b[0;31m \u001b[0mdetail_cells\u001b[0m \u001b[0;34m=\u001b[0m \u001b[0mexample_row\u001b[0m\u001b[0;34m.\u001b[0m\u001b[0mselect\u001b[0m\u001b[0;34m(\u001b[0m\u001b[0;34m'td.detail'\u001b[0m\u001b[0;34m)\u001b[0m\u001b[0;34m\u001b[0m\u001b[0;34m\u001b[0m\u001b[0m\n\u001b[0m\u001b[1;32m      3\u001b[0m \u001b[0mdetail_cells\u001b[0m\u001b[0;34m\u001b[0m\u001b[0;34m\u001b[0m\u001b[0m\n",
            "\u001b[0;31mNameError\u001b[0m: name 'example_row' is not defined"
          ]
        }
      ],
      "source": [
        "# Select only those 'td' tags with class 'detail'\n",
        "detail_cells = example_row.select('td.detail')\n",
        "detail_cells"
      ]
    },
    {
      "cell_type": "markdown",
      "metadata": {
        "id": "k2Aw4MjldOmb"
      },
      "source": [
        "Most of the time, we're interested in the actual **text** of a website, not its tags. Recall that to get the text of an HTML element, we use the `text` member:"
      ]
    },
    {
      "cell_type": "code",
      "execution_count": 91,
      "metadata": {
        "id": "XAHsv0IkdOmc",
        "colab": {
          "base_uri": "https://localhost:8080/",
          "height": 193
        },
        "outputId": "3435b457-8331-49cf-d5c4-989897bcbeb8"
      },
      "outputs": [
        {
          "output_type": "error",
          "ename": "NameError",
          "evalue": "name 'detail_cells' is not defined",
          "traceback": [
            "\u001b[0;31m---------------------------------------------------------------------------\u001b[0m",
            "\u001b[0;31mNameError\u001b[0m                                 Traceback (most recent call last)",
            "\u001b[0;32m/tmp/ipython-input-3369093193.py\u001b[0m in \u001b[0;36m<cell line: 0>\u001b[0;34m()\u001b[0m\n\u001b[1;32m      1\u001b[0m \u001b[0;31m# Keep only the text in each of those cells\u001b[0m\u001b[0;34m\u001b[0m\u001b[0;34m\u001b[0m\u001b[0m\n\u001b[0;32m----> 2\u001b[0;31m \u001b[0mrow_data\u001b[0m \u001b[0;34m=\u001b[0m \u001b[0;34m[\u001b[0m\u001b[0mcell\u001b[0m\u001b[0;34m.\u001b[0m\u001b[0mtext\u001b[0m \u001b[0;32mfor\u001b[0m \u001b[0mcell\u001b[0m \u001b[0;32min\u001b[0m \u001b[0mdetail_cells\u001b[0m\u001b[0;34m]\u001b[0m\u001b[0;34m\u001b[0m\u001b[0;34m\u001b[0m\u001b[0m\n\u001b[0m\u001b[1;32m      3\u001b[0m \u001b[0;34m\u001b[0m\u001b[0m\n\u001b[1;32m      4\u001b[0m \u001b[0mprint\u001b[0m\u001b[0;34m(\u001b[0m\u001b[0mrow_data\u001b[0m\u001b[0;34m)\u001b[0m\u001b[0;34m\u001b[0m\u001b[0;34m\u001b[0m\u001b[0m\n",
            "\u001b[0;31mNameError\u001b[0m: name 'detail_cells' is not defined"
          ]
        }
      ],
      "source": [
        "# Keep only the text in each of those cells\n",
        "row_data = [cell.text for cell in detail_cells]\n",
        "\n",
        "print(row_data)"
      ]
    },
    {
      "cell_type": "markdown",
      "metadata": {
        "id": "KT9IL5_HdOmc"
      },
      "source": [
        "Looks good! Now we just use our basic Python knowledge to get the elements of this list that we want. Remember, we want the senator's name, their district, and their party."
      ]
    },
    {
      "cell_type": "code",
      "execution_count": 92,
      "metadata": {
        "id": "gr5oDzz0dOmc",
        "colab": {
          "base_uri": "https://localhost:8080/",
          "height": 176
        },
        "outputId": "e7f45963-28bf-467a-ebc5-753d42720988"
      },
      "outputs": [
        {
          "output_type": "error",
          "ename": "NameError",
          "evalue": "name 'row_data' is not defined",
          "traceback": [
            "\u001b[0;31m---------------------------------------------------------------------------\u001b[0m",
            "\u001b[0;31mNameError\u001b[0m                                 Traceback (most recent call last)",
            "\u001b[0;32m/tmp/ipython-input-3960313681.py\u001b[0m in \u001b[0;36m<cell line: 0>\u001b[0;34m()\u001b[0m\n\u001b[0;32m----> 1\u001b[0;31m \u001b[0mprint\u001b[0m\u001b[0;34m(\u001b[0m\u001b[0mrow_data\u001b[0m\u001b[0;34m[\u001b[0m\u001b[0;36m0\u001b[0m\u001b[0;34m]\u001b[0m\u001b[0;34m)\u001b[0m \u001b[0;31m# Name\u001b[0m\u001b[0;34m\u001b[0m\u001b[0;34m\u001b[0m\u001b[0m\n\u001b[0m\u001b[1;32m      2\u001b[0m \u001b[0mprint\u001b[0m\u001b[0;34m(\u001b[0m\u001b[0mrow_data\u001b[0m\u001b[0;34m[\u001b[0m\u001b[0;36m3\u001b[0m\u001b[0;34m]\u001b[0m\u001b[0;34m)\u001b[0m \u001b[0;31m# District\u001b[0m\u001b[0;34m\u001b[0m\u001b[0;34m\u001b[0m\u001b[0m\n\u001b[1;32m      3\u001b[0m \u001b[0mprint\u001b[0m\u001b[0;34m(\u001b[0m\u001b[0mrow_data\u001b[0m\u001b[0;34m[\u001b[0m\u001b[0;36m4\u001b[0m\u001b[0;34m]\u001b[0m\u001b[0;34m)\u001b[0m \u001b[0;31m# Party\u001b[0m\u001b[0;34m\u001b[0m\u001b[0;34m\u001b[0m\u001b[0m\n",
            "\u001b[0;31mNameError\u001b[0m: name 'row_data' is not defined"
          ]
        }
      ],
      "source": [
        "print(row_data[0]) # Name\n",
        "print(row_data[3]) # District\n",
        "print(row_data[4]) # Party"
      ]
    },
    {
      "cell_type": "markdown",
      "source": [
        "*Ahora aplicado a nuestro ejemplo quedaria asi:*"
      ],
      "metadata": {
        "id": "YiQO-6WavWBx"
      }
    },
    {
      "cell_type": "code",
      "source": [
        "senadores = []\n",
        "\n",
        "for card in cards:\n",
        "    # Nombre y partido\n",
        "    title_tag = card.select_one(\".card-title\")\n",
        "    if title_tag:\n",
        "        nombre = title_tag.select_one(\".notranslate\").get_text(strip=True)\n",
        "        partido = title_tag.get_text(strip=True).replace(nombre, \"\").strip()\n",
        "    else:\n",
        "        nombre, partido = None, None\n",
        "\n",
        "    # Cargo y distrito\n",
        "    text_tag = card.select_one(\".card-text\")\n",
        "    if text_tag:\n",
        "        partes = [t.strip() for t in text_tag.get_text(separator=\"|\").split(\"|\") if t.strip()]\n",
        "        # normalmente: [cargo, distrito]\n",
        "        cargo = partes[0] if len(partes) > 0 else None\n",
        "        distrito = partes[1] if len(partes) > 1 else None\n",
        "    else:\n",
        "        cargo, distrito = None, None\n",
        "\n",
        "    senadores.append({\n",
        "        \"nombre\": nombre,\n",
        "        \"partido\": partido,\n",
        "        \"cargo\": cargo,\n",
        "        \"distrito\": distrito\n",
        "    })\n",
        "\n",
        "# Mostrar los primeros resultados\n",
        "for s in senadores[:5]:\n",
        "    print(s)"
      ],
      "metadata": {
        "colab": {
          "base_uri": "https://localhost:8080/"
        },
        "id": "SQ2Q117rvQlJ",
        "outputId": "22837fcb-5211-4d8e-928e-09fa37f5663c"
      },
      "execution_count": 93,
      "outputs": [
        {
          "output_type": "stream",
          "name": "stdout",
          "text": [
            "{'nombre': 'Neil Anderson', 'partido': '(R)', 'cargo': 'Republican Caucus Chair', 'distrito': '47th District'}\n",
            "{'nombre': 'Neil Anderson', 'partido': '(R)', 'cargo': 'Republican Caucus Chair', 'distrito': '47th District'}\n",
            "{'nombre': 'Omar Aquino', 'partido': '(D)', 'cargo': 'Majority Caucus Chair', 'distrito': '2nd District'}\n",
            "{'nombre': 'Omar Aquino', 'partido': '(D)', 'cargo': 'Majority Caucus Chair', 'distrito': '2nd District'}\n",
            "{'nombre': 'Li Arellano, Jr.', 'partido': '(R)', 'cargo': 'Senator', 'distrito': '37th District'}\n"
          ]
        }
      ]
    },
    {
      "cell_type": "markdown",
      "source": [
        "Como se puede validar se tiene los 5 primeros resultados de nombre, partido, cargo y distrito\n"
      ],
      "metadata": {
        "id": "-Il2PcXvvaQK"
      }
    },
    {
      "cell_type": "markdown",
      "metadata": {
        "id": "Cqg-1CaSdOmc"
      },
      "source": [
        "*texto en cursiva*## Getting Rid of Junk Rows\n",
        "\n",
        "We saw at the beginning that not all of the rows we got actually correspond to a senator. We'll need to do some cleaning before we can proceed forward. Take a look at some examples:"
      ]
    },
    {
      "cell_type": "code",
      "execution_count": 94,
      "metadata": {
        "id": "6bcaRt9tdOmc",
        "colab": {
          "base_uri": "https://localhost:8080/",
          "height": 176
        },
        "outputId": "e48926c1-38a9-4915-b7dd-7587e52a24a8"
      },
      "outputs": [
        {
          "output_type": "error",
          "ename": "IndexError",
          "evalue": "list index out of range",
          "traceback": [
            "\u001b[0;31m---------------------------------------------------------------------------\u001b[0m",
            "\u001b[0;31mIndexError\u001b[0m                                Traceback (most recent call last)",
            "\u001b[0;32m/tmp/ipython-input-1127852010.py\u001b[0m in \u001b[0;36m<cell line: 0>\u001b[0;34m()\u001b[0m\n\u001b[0;32m----> 1\u001b[0;31m \u001b[0mprint\u001b[0m\u001b[0;34m(\u001b[0m\u001b[0;34m'Row 0:\\n'\u001b[0m\u001b[0;34m,\u001b[0m \u001b[0mrows\u001b[0m\u001b[0;34m[\u001b[0m\u001b[0;36m0\u001b[0m\u001b[0;34m]\u001b[0m\u001b[0;34m,\u001b[0m \u001b[0;34m'\\n'\u001b[0m\u001b[0;34m)\u001b[0m\u001b[0;34m\u001b[0m\u001b[0;34m\u001b[0m\u001b[0m\n\u001b[0m\u001b[1;32m      2\u001b[0m \u001b[0mprint\u001b[0m\u001b[0;34m(\u001b[0m\u001b[0;34m'Row 1:\\n'\u001b[0m\u001b[0;34m,\u001b[0m \u001b[0mrows\u001b[0m\u001b[0;34m[\u001b[0m\u001b[0;36m1\u001b[0m\u001b[0;34m]\u001b[0m\u001b[0;34m,\u001b[0m \u001b[0;34m'\\n'\u001b[0m\u001b[0;34m)\u001b[0m\u001b[0;34m\u001b[0m\u001b[0;34m\u001b[0m\u001b[0m\n\u001b[1;32m      3\u001b[0m \u001b[0mprint\u001b[0m\u001b[0;34m(\u001b[0m\u001b[0;34m'Last Row:\\n'\u001b[0m\u001b[0;34m,\u001b[0m \u001b[0mrows\u001b[0m\u001b[0;34m[\u001b[0m\u001b[0;34m-\u001b[0m\u001b[0;36m1\u001b[0m\u001b[0;34m]\u001b[0m\u001b[0;34m)\u001b[0m\u001b[0;34m\u001b[0m\u001b[0;34m\u001b[0m\u001b[0m\n",
            "\u001b[0;31mIndexError\u001b[0m: list index out of range"
          ]
        }
      ],
      "source": [
        "print('Row 0:\\n', rows[0], '\\n')\n",
        "print('Row 1:\\n', rows[1], '\\n')\n",
        "print('Last Row:\\n', rows[-1])"
      ]
    },
    {
      "cell_type": "markdown",
      "metadata": {
        "id": "QSvUOZcQdOmd"
      },
      "source": [
        "When we write our for loop, we only want it to apply to the relevant rows. So we'll need to filter out the irrelevant rows. The way to do this is to compare some of these to the rows we do want, see how they differ, and then formulate that in a conditional.\n",
        "\n",
        "As you can imagine, there a lot of possible ways to do this, and it'll depend on the website. We'll show some here to give you an idea of how to do this."
      ]
    },
    {
      "cell_type": "code",
      "execution_count": 95,
      "metadata": {
        "id": "SE8VfPvydOmd",
        "colab": {
          "base_uri": "https://localhost:8080/",
          "height": 211
        },
        "outputId": "085940b9-40e2-4857-a2b0-1617e77dd9df"
      },
      "outputs": [
        {
          "output_type": "error",
          "ename": "IndexError",
          "evalue": "list index out of range",
          "traceback": [
            "\u001b[0;31m---------------------------------------------------------------------------\u001b[0m",
            "\u001b[0;31mIndexError\u001b[0m                                Traceback (most recent call last)",
            "\u001b[0;32m/tmp/ipython-input-2167775564.py\u001b[0m in \u001b[0;36m<cell line: 0>\u001b[0;34m()\u001b[0m\n\u001b[1;32m      1\u001b[0m \u001b[0;31m# Bad rows\u001b[0m\u001b[0;34m\u001b[0m\u001b[0;34m\u001b[0m\u001b[0m\n\u001b[0;32m----> 2\u001b[0;31m \u001b[0mprint\u001b[0m\u001b[0;34m(\u001b[0m\u001b[0mlen\u001b[0m\u001b[0;34m(\u001b[0m\u001b[0mrows\u001b[0m\u001b[0;34m[\u001b[0m\u001b[0;36m0\u001b[0m\u001b[0;34m]\u001b[0m\u001b[0;34m)\u001b[0m\u001b[0;34m)\u001b[0m\u001b[0;34m\u001b[0m\u001b[0;34m\u001b[0m\u001b[0m\n\u001b[0m\u001b[1;32m      3\u001b[0m \u001b[0mprint\u001b[0m\u001b[0;34m(\u001b[0m\u001b[0mlen\u001b[0m\u001b[0;34m(\u001b[0m\u001b[0mrows\u001b[0m\u001b[0;34m[\u001b[0m\u001b[0;36m1\u001b[0m\u001b[0;34m]\u001b[0m\u001b[0;34m)\u001b[0m\u001b[0;34m)\u001b[0m\u001b[0;34m\u001b[0m\u001b[0;34m\u001b[0m\u001b[0m\n\u001b[1;32m      4\u001b[0m \u001b[0;34m\u001b[0m\u001b[0m\n\u001b[1;32m      5\u001b[0m \u001b[0;31m# Good rows\u001b[0m\u001b[0;34m\u001b[0m\u001b[0;34m\u001b[0m\u001b[0m\n",
            "\u001b[0;31mIndexError\u001b[0m: list index out of range"
          ]
        }
      ],
      "source": [
        "# Bad rows\n",
        "print(len(rows[0]))\n",
        "print(len(rows[1]))\n",
        "\n",
        "# Good rows\n",
        "print(len(rows[2]))\n",
        "print(len(rows[3]))"
      ]
    },
    {
      "cell_type": "markdown",
      "metadata": {
        "id": "Lp1ItFM3dOmd"
      },
      "source": [
        "Perhaps good rows have a length of 5. Let's check:"
      ]
    },
    {
      "cell_type": "code",
      "execution_count": 96,
      "metadata": {
        "id": "h8gExqsFdOmd",
        "colab": {
          "base_uri": "https://localhost:8080/",
          "height": 211
        },
        "outputId": "4f31db7f-b2c2-40e7-c7ce-222af76e09a2"
      },
      "outputs": [
        {
          "output_type": "error",
          "ename": "IndexError",
          "evalue": "list index out of range",
          "traceback": [
            "\u001b[0;31m---------------------------------------------------------------------------\u001b[0m",
            "\u001b[0;31mIndexError\u001b[0m                                Traceback (most recent call last)",
            "\u001b[0;32m/tmp/ipython-input-218917709.py\u001b[0m in \u001b[0;36m<cell line: 0>\u001b[0;34m()\u001b[0m\n\u001b[1;32m      2\u001b[0m \u001b[0;34m\u001b[0m\u001b[0m\n\u001b[1;32m      3\u001b[0m \u001b[0;31m# Let's check some rows\u001b[0m\u001b[0;34m\u001b[0m\u001b[0;34m\u001b[0m\u001b[0m\n\u001b[0;32m----> 4\u001b[0;31m \u001b[0mprint\u001b[0m\u001b[0;34m(\u001b[0m\u001b[0mgood_rows\u001b[0m\u001b[0;34m[\u001b[0m\u001b[0;36m0\u001b[0m\u001b[0;34m]\u001b[0m\u001b[0;34m,\u001b[0m \u001b[0;34m'\\n'\u001b[0m\u001b[0;34m)\u001b[0m\u001b[0;34m\u001b[0m\u001b[0;34m\u001b[0m\u001b[0m\n\u001b[0m\u001b[1;32m      5\u001b[0m \u001b[0mprint\u001b[0m\u001b[0;34m(\u001b[0m\u001b[0mgood_rows\u001b[0m\u001b[0;34m[\u001b[0m\u001b[0;34m-\u001b[0m\u001b[0;36m2\u001b[0m\u001b[0;34m]\u001b[0m\u001b[0;34m,\u001b[0m \u001b[0;34m'\\n'\u001b[0m\u001b[0;34m)\u001b[0m\u001b[0;34m\u001b[0m\u001b[0;34m\u001b[0m\u001b[0m\n\u001b[1;32m      6\u001b[0m \u001b[0mprint\u001b[0m\u001b[0;34m(\u001b[0m\u001b[0mgood_rows\u001b[0m\u001b[0;34m[\u001b[0m\u001b[0;34m-\u001b[0m\u001b[0;36m1\u001b[0m\u001b[0;34m]\u001b[0m\u001b[0;34m)\u001b[0m\u001b[0;34m\u001b[0m\u001b[0;34m\u001b[0m\u001b[0m\n",
            "\u001b[0;31mIndexError\u001b[0m: list index out of range"
          ]
        }
      ],
      "source": [
        "good_rows = [row for row in rows if len(row) == 5]\n",
        "\n",
        "# Let's check some rows\n",
        "print(good_rows[0], '\\n')\n",
        "print(good_rows[-2], '\\n')\n",
        "print(good_rows[-1])"
      ]
    },
    {
      "cell_type": "markdown",
      "metadata": {
        "id": "JNJD8gpFdOme"
      },
      "source": [
        "We found a footer row in our list that we'd like to avoid. Let's try something else:"
      ]
    },
    {
      "cell_type": "code",
      "execution_count": 97,
      "metadata": {
        "id": "ZedSgzwsdOme",
        "colab": {
          "base_uri": "https://localhost:8080/",
          "height": 141
        },
        "outputId": "bdc509fd-de70-4af5-d433-dacd472b7fa4"
      },
      "outputs": [
        {
          "output_type": "error",
          "ename": "IndexError",
          "evalue": "list index out of range",
          "traceback": [
            "\u001b[0;31m---------------------------------------------------------------------------\u001b[0m",
            "\u001b[0;31mIndexError\u001b[0m                                Traceback (most recent call last)",
            "\u001b[0;32m/tmp/ipython-input-156063507.py\u001b[0m in \u001b[0;36m<cell line: 0>\u001b[0;34m()\u001b[0m\n\u001b[0;32m----> 1\u001b[0;31m \u001b[0mrows\u001b[0m\u001b[0;34m[\u001b[0m\u001b[0;36m2\u001b[0m\u001b[0;34m]\u001b[0m\u001b[0;34m.\u001b[0m\u001b[0mselect\u001b[0m\u001b[0;34m(\u001b[0m\u001b[0;34m'td.detail'\u001b[0m\u001b[0;34m)\u001b[0m\u001b[0;34m\u001b[0m\u001b[0;34m\u001b[0m\u001b[0m\n\u001b[0m",
            "\u001b[0;31mIndexError\u001b[0m: list index out of range"
          ]
        }
      ],
      "source": [
        "rows[2].select('td.detail')"
      ]
    },
    {
      "cell_type": "code",
      "execution_count": 98,
      "metadata": {
        "id": "q5KUDiSQdOme",
        "colab": {
          "base_uri": "https://localhost:8080/",
          "height": 211
        },
        "outputId": "cab20830-8570-4d20-b1ea-3a5cc76f2ee0"
      },
      "outputs": [
        {
          "output_type": "error",
          "ename": "IndexError",
          "evalue": "list index out of range",
          "traceback": [
            "\u001b[0;31m---------------------------------------------------------------------------\u001b[0m",
            "\u001b[0;31mIndexError\u001b[0m                                Traceback (most recent call last)",
            "\u001b[0;32m/tmp/ipython-input-3768260230.py\u001b[0m in \u001b[0;36m<cell line: 0>\u001b[0;34m()\u001b[0m\n\u001b[1;32m      1\u001b[0m \u001b[0;31m# Bad row\u001b[0m\u001b[0;34m\u001b[0m\u001b[0;34m\u001b[0m\u001b[0m\n\u001b[0;32m----> 2\u001b[0;31m \u001b[0mprint\u001b[0m\u001b[0;34m(\u001b[0m\u001b[0mrows\u001b[0m\u001b[0;34m[\u001b[0m\u001b[0;34m-\u001b[0m\u001b[0;36m1\u001b[0m\u001b[0;34m]\u001b[0m\u001b[0;34m.\u001b[0m\u001b[0mselect\u001b[0m\u001b[0;34m(\u001b[0m\u001b[0;34m'td.detail'\u001b[0m\u001b[0;34m)\u001b[0m\u001b[0;34m,\u001b[0m \u001b[0;34m'\\n'\u001b[0m\u001b[0;34m)\u001b[0m\u001b[0;34m\u001b[0m\u001b[0;34m\u001b[0m\u001b[0m\n\u001b[0m\u001b[1;32m      3\u001b[0m \u001b[0;34m\u001b[0m\u001b[0m\n\u001b[1;32m      4\u001b[0m \u001b[0;31m# Good row\u001b[0m\u001b[0;34m\u001b[0m\u001b[0;34m\u001b[0m\u001b[0m\n\u001b[1;32m      5\u001b[0m \u001b[0mprint\u001b[0m\u001b[0;34m(\u001b[0m\u001b[0mrows\u001b[0m\u001b[0;34m[\u001b[0m\u001b[0;36m5\u001b[0m\u001b[0;34m]\u001b[0m\u001b[0;34m.\u001b[0m\u001b[0mselect\u001b[0m\u001b[0;34m(\u001b[0m\u001b[0;34m'td.detail'\u001b[0m\u001b[0;34m)\u001b[0m\u001b[0;34m,\u001b[0m \u001b[0;34m'\\n'\u001b[0m\u001b[0;34m)\u001b[0m\u001b[0;34m\u001b[0m\u001b[0;34m\u001b[0m\u001b[0m\n",
            "\u001b[0;31mIndexError\u001b[0m: list index out of range"
          ]
        }
      ],
      "source": [
        "# Bad row\n",
        "print(rows[-1].select('td.detail'), '\\n')\n",
        "\n",
        "# Good row\n",
        "print(rows[5].select('td.detail'), '\\n')\n",
        "\n",
        "# How about this?\n",
        "good_rows = [row for row in rows if row.select('td.detail')]\n",
        "\n",
        "print(\"Checking rows...\\n\")\n",
        "print(good_rows[0], '\\n')\n",
        "print(good_rows[-1])"
      ]
    },
    {
      "cell_type": "markdown",
      "source": [
        "Estos resultados dan errores dado que no se tenian los valores en las listas por los elementos td, se realiza limpieza de la data, para nuestro ejemplo vamos a eliminar los datos repetidos, comos e ve acontinuacion:"
      ],
      "metadata": {
        "id": "FYVZ4gNlvpnr"
      }
    },
    {
      "cell_type": "code",
      "source": [
        "# Quitamos duplicados convirtiendo la lista de dicts a tuplas inmutables\n",
        "unicos = [dict(t) for t in {tuple(s.items()) for s in senadores}]\n",
        "\n",
        "# Aseguramos con assert que el largo sea menor o igual al original\n",
        "assert len(unicos) <= len(senadores)\n",
        "\n",
        "# Mostrar resultados\n",
        "for s in unicos[:10]:\n",
        "    print(s)"
      ],
      "metadata": {
        "colab": {
          "base_uri": "https://localhost:8080/"
        },
        "id": "DoNvr2_mv3pW",
        "outputId": "90107639-e90a-4977-b2d5-d5e86d073b30"
      },
      "execution_count": 99,
      "outputs": [
        {
          "output_type": "stream",
          "name": "stdout",
          "text": [
            "{'nombre': 'Mattie Hunter', 'partido': '(D)', 'cargo': 'Assistant Majority Leader', 'distrito': '3rd District'}\n",
            "{'nombre': 'Robert F. Martwick', 'partido': '(D)', 'cargo': 'Senator', 'distrito': '10th District'}\n",
            "{'nombre': 'Robert Peters', 'partido': '(D)', 'cargo': 'Majority Caucus Whip', 'distrito': '13th District'}\n",
            "{'nombre': 'Mike Simmons', 'partido': '(D)', 'cargo': 'Senator', 'distrito': '7th District'}\n",
            "{'nombre': 'Mary Edly-Allen', 'partido': '(D)', 'cargo': 'Senator', 'distrito': '31st District'}\n",
            "{'nombre': 'Jason Plummer', 'partido': '(R)', 'cargo': 'Assistant Republican Leader', 'distrito': '55th District'}\n",
            "{'nombre': 'Meg Loughran Cappel', 'partido': '(D)', 'cargo': 'Senator', 'distrito': '49th District'}\n",
            "{'nombre': 'Ram Villivalam', 'partido': '(D)', 'cargo': 'Majority Caucus Whip', 'distrito': '8th District'}\n",
            "{'nombre': 'Celina Villanueva', 'partido': '(D)', 'cargo': 'Senator', 'distrito': '12th District'}\n",
            "{'nombre': 'Linda Holmes', 'partido': '(D)', 'cargo': 'Assistant Majority Leader', 'distrito': '42nd District'}\n"
          ]
        }
      ]
    },
    {
      "cell_type": "markdown",
      "metadata": {
        "id": "ki5i7OfWdOme"
      },
      "source": [
        "Looks like we found something that worked!"
      ]
    },
    {
      "cell_type": "markdown",
      "metadata": {
        "id": "_WX_xpdGdOmf"
      },
      "source": [
        "*texto en cursiva*## Loop it All Together\n",
        "\n",
        "Now that we've seen how to get the data we want from one row, as well as filter out the rows we don't want, let's put it all together into a loop."
      ]
    },
    {
      "cell_type": "markdown",
      "source": [
        "Aqui se une los datos limpios"
      ],
      "metadata": {
        "id": "2G8oRh3hwTZz"
      }
    },
    {
      "cell_type": "code",
      "execution_count": 101,
      "metadata": {
        "tags": [],
        "id": "ed30jq5ndOmf"
      },
      "outputs": [],
      "source": [
        "# Define storage list\n",
        "members = []\n",
        "\n",
        "# Get rid of junk rows\n",
        "valid_rows = [row for row in rows if row.select('td.detail')]\n",
        "\n",
        "# Loop through all rows\n",
        "for row in valid_rows:\n",
        "    # Select only those 'td' tags with class 'detail'\n",
        "    detail_cells = row.select('td.detail')\n",
        "    # Keep only the text in each of those cells\n",
        "    row_data = [cell.text for cell in detail_cells]\n",
        "    # Collect information\n",
        "    name = row_data[0]\n",
        "    district = int(row_data[3])\n",
        "    party = row_data[4]\n",
        "    # Store in a tuple\n",
        "    senator = (name, district, party)\n",
        "    # Append to list\n",
        "    members.append(senator)"
      ]
    },
    {
      "cell_type": "code",
      "execution_count": 102,
      "metadata": {
        "id": "zcOybjhJdOmf",
        "colab": {
          "base_uri": "https://localhost:8080/"
        },
        "outputId": "a962d2a3-e13f-43a3-e477-93da9c199f5f"
      },
      "outputs": [
        {
          "output_type": "execute_result",
          "data": {
            "text/plain": [
              "0"
            ]
          },
          "metadata": {},
          "execution_count": 102
        }
      ],
      "source": [
        "# Should be 61\n",
        "len(members)"
      ]
    },
    {
      "cell_type": "markdown",
      "source": [
        "Para nuestro caso de datos sin duplicados obtenemos 60 resultados"
      ],
      "metadata": {
        "id": "Va_PKFSDwbNm"
      }
    },
    {
      "cell_type": "code",
      "source": [
        "len(unicos)"
      ],
      "metadata": {
        "colab": {
          "base_uri": "https://localhost:8080/"
        },
        "id": "RkEk5JgAwY8Z",
        "outputId": "376bdeb9-c035-4f64-e940-fbbe2070e848"
      },
      "execution_count": 104,
      "outputs": [
        {
          "output_type": "execute_result",
          "data": {
            "text/plain": [
              "60"
            ]
          },
          "metadata": {},
          "execution_count": 104
        }
      ]
    },
    {
      "cell_type": "markdown",
      "metadata": {
        "id": "cyoaM2GXdOmf"
      },
      "source": [
        "Let's take a look at what we have in `members`."
      ]
    },
    {
      "cell_type": "code",
      "execution_count": 105,
      "metadata": {
        "id": "p2ysG3FfdOmf",
        "colab": {
          "base_uri": "https://localhost:8080/"
        },
        "outputId": "d7b4f3b6-8f4a-423e-9e31-94836fd5a427"
      },
      "outputs": [
        {
          "output_type": "stream",
          "name": "stdout",
          "text": [
            "[]\n"
          ]
        }
      ],
      "source": [
        "print(members[:5])"
      ]
    },
    {
      "cell_type": "markdown",
      "metadata": {
        "id": "vU9kdQ3WdOmg"
      },
      "source": [
        "## 🥊  Challenge: Get `href` elements pointing to members' bills\n",
        "\n",
        "The code above retrieves information on:  \n",
        "\n",
        "- the senator's name,\n",
        "- their district number,\n",
        "- and their party.\n",
        "\n",
        "We now want to retrieve the URL for each senator's list of bills. Each URL will follow a specific format.\n",
        "\n",
        "The format for the list of bills for a given senator is:\n",
        "\n",
        "`http://www.ilga.gov/senate/SenatorBills.asp?GA=98&MemberID=[MEMBER_ID]&Primary=True`\n",
        "\n",
        "to get something like:\n",
        "\n",
        "`http://www.ilga.gov/senate/SenatorBills.asp?MemberID=1911&GA=98&Primary=True`\n",
        "\n",
        "in which `MEMBER_ID=1911`.\n",
        "\n",
        "You should be able to see that, unfortunately, `MEMBER_ID` is not currently something pulled out in our scraping code.\n",
        "\n",
        "Your initial task is to modify the code above so that we also **retrieve the full URL which points to the corresponding page of primary-sponsored bills**, for each member, and return it along with their name, district, and party.\n",
        "\n",
        "Tips:\n",
        "\n",
        "* To do this, you will want to get the appropriate anchor element (`<a>`) in each legislator's row of the table. You can again use the `.select()` method on the `row` object in the loop to do this — similar to the command that finds all of the `td.detail` cells in the row. Remember that we only want the link to the legislator's bills, not the committees or the legislator's profile page.\n",
        "* The anchor elements' HTML will look like `<a href=\"/senate/Senator.asp/...\">Bills</a>`. The string in the `href` attribute contains the **relative** link we are after. You can access an attribute of a BeatifulSoup `Tag` object the same way you access a Python dictionary: `anchor['attributeName']`. See the <a href=\"http://www.crummy.com/software/BeautifulSoup/bs4/doc/#tag\">documentation</a> for more details.\n",
        "* There are a _lot_ of different ways to use BeautifulSoup to get things done. whatever you need to do to pull the `href` out is fine.\n",
        "\n",
        "The code has been partially filled out for you. Fill it in where it says `#YOUR CODE HERE`. Save the path into an object called `full_path`."
      ]
    },
    {
      "cell_type": "markdown",
      "source": [
        "El codigo quedaria de la siguiente forma sin embargo como vimos no existe un elemento tr por lo cual resultara en vacio\n"
      ],
      "metadata": {
        "id": "en1SjVJfxUC2"
      }
    },
    {
      "cell_type": "code",
      "execution_count": 114,
      "metadata": {
        "tags": [],
        "id": "RC_ABy0udOmg"
      },
      "outputs": [],
      "source": [
        "# Make a GET request\n",
        "req = requests.get('http://www.ilga.gov/senate/default.asp?GA=98')\n",
        "# Read the content of the server’s response\n",
        "src = req.text\n",
        "# Soup it\n",
        "soup = BeautifulSoup(src, \"lxml\")\n",
        "# Create empty list to store our data\n",
        "members = []\n",
        "\n",
        "# Returns every ‘tr tr tr’ css selector in the page\n",
        "rows = soup.select('tr tr tr')\n",
        "# Get rid of junk rows\n",
        "rows = [row for row in rows if row.select('td.detail')]\n",
        "\n",
        "# Loop through all rows\n",
        "for row in rows:\n",
        "    # Select only those 'td' tags with class 'detail'\n",
        "    detail_cells = row.select('td.detail')\n",
        "    # Keep only the text in each of those cells\n",
        "    row_data = [cell.text for cell in detail_cells]\n",
        "    # Collect information\n",
        "    name = row_data[0]\n",
        "    district = int(row_data[3])\n",
        "    party = row_data[4]\n",
        "\n",
        "    # YOUR CODE HERE\n",
        "    # Extract href\n",
        "    href = row.select('a')[1]['href']\n",
        "    # Create full path\n",
        "    full_path = \"http://www.ilga.gov/senate/\" + href + \"&Primary=True\"\n",
        "\n",
        "    # Store in a tuple\n",
        "    senator = (name, district, party, full_path)\n",
        "    # Append to list\n",
        "    members.append(senator)\n"
      ]
    },
    {
      "cell_type": "code",
      "execution_count": 115,
      "metadata": {
        "tags": [],
        "id": "YjhRQA8qdOmg",
        "colab": {
          "base_uri": "https://localhost:8080/"
        },
        "outputId": "69162b6f-1be8-4525-e8d6-b8110d4e78d6"
      },
      "outputs": [
        {
          "output_type": "execute_result",
          "data": {
            "text/plain": [
              "[]"
            ]
          },
          "metadata": {},
          "execution_count": 115
        }
      ],
      "source": [
        "# Uncomment to test\n",
        "members[:5]"
      ]
    },
    {
      "cell_type": "markdown",
      "metadata": {
        "id": "tapyZZEUdOmh"
      },
      "source": [
        "## 🥊  Challenge: Modularize Your Code\n",
        "\n",
        "Turn the code above into a function that accepts a URL, scrapes the URL for its senators, and returns a list of tuples containing information about each senator."
      ]
    },
    {
      "cell_type": "code",
      "execution_count": 132,
      "metadata": {
        "tags": [],
        "id": "xL-M_x9xdOmh"
      },
      "outputs": [],
      "source": [
        "import requests\n",
        "from bs4 import BeautifulSoup\n",
        "\n",
        "def get_members(url):\n",
        "    # Hacer la petición GET\n",
        "    req = requests.get(url)\n",
        "    req.raise_for_status()\n",
        "    soup = BeautifulSoup(req.text, \"lxml\")\n",
        "\n",
        "    members = []\n",
        "\n",
        "    # Seleccionar todas las tarjetas de senadores\n",
        "    cards = soup.select(\"div.member-card.mb-4\")\n",
        "\n",
        "    for card in cards:\n",
        "        # Nombre y partido\n",
        "        title = card.select_one(\".card-title\")\n",
        "        if not title:\n",
        "            continue\n",
        "\n",
        "        nombre = title.select_one(\".notranslate\").get_text(strip=True)\n",
        "        partido = title.get_text(strip=True).replace(nombre, \"\").strip()\n",
        "\n",
        "        # Cargo y distrito (están en <p class=\"card-text\">, separados por <br>)\n",
        "        text = card.select_one(\".card-text\")\n",
        "        partes = [t.strip() for t in text.get_text(separator=\"|\").split(\"|\") if t.strip()] if text else []\n",
        "        cargo = partes[0] if len(partes) > 0 else None\n",
        "        distrito = partes[1] if len(partes) > 1 else None\n",
        "\n",
        "        # URL del perfil del senador\n",
        "        a_tag = title.select_one(\"a\")\n",
        "        url_detalle = \"https://www.ilga.gov\" + a_tag[\"href\"] if a_tag else None\n",
        "\n",
        "        # Guardar en tupla (puedes cambiar a dict si prefieres)\n",
        "        senator = (nombre, distrito, partido, cargo, url_detalle)\n",
        "        members.append(senator)\n",
        "        # Quitamos duplicados convirtiendo la lista de dicts a tuplas inmutables\n",
        "        unicos = [dict(t) for t in {tuple(s.items()) for s in senadores}]\n",
        "       # Aseguramos con assert que el largo sea menor o igual al original\n",
        "        assert len(unicos) <= len(senadores)\n",
        "    return unicos\n"
      ]
    },
    {
      "cell_type": "code",
      "execution_count": 133,
      "metadata": {
        "tags": [],
        "id": "KnZtfv83dOmh",
        "colab": {
          "base_uri": "https://localhost:8080/"
        },
        "outputId": "ebbc29b0-4555-413a-fb24-44132a601c44"
      },
      "outputs": [
        {
          "output_type": "stream",
          "name": "stdout",
          "text": [
            "{'nombre': 'Mattie Hunter', 'partido': '(D)', 'cargo': 'Assistant Majority Leader', 'distrito': '3rd District'}\n",
            "{'nombre': 'Robert F. Martwick', 'partido': '(D)', 'cargo': 'Senator', 'distrito': '10th District'}\n",
            "{'nombre': 'Robert Peters', 'partido': '(D)', 'cargo': 'Majority Caucus Whip', 'distrito': '13th District'}\n",
            "{'nombre': 'Mike Simmons', 'partido': '(D)', 'cargo': 'Senator', 'distrito': '7th District'}\n",
            "{'nombre': 'Mary Edly-Allen', 'partido': '(D)', 'cargo': 'Senator', 'distrito': '31st District'}\n"
          ]
        }
      ],
      "source": [
        "# Test your code\n",
        "url = 'https://www.ilga.gov/Senate/Members'\n",
        "senate_members = get_members(url)\n",
        "for s in senate_members[:5]:\n",
        "    print(s)"
      ]
    },
    {
      "cell_type": "markdown",
      "source": [
        "Aqui se creo una función que se puede invocar con la url y obtener los resultados tal como se pudo ver anteriormente\n"
      ],
      "metadata": {
        "id": "yThKCVcjy2rK"
      }
    },
    {
      "cell_type": "markdown",
      "metadata": {
        "id": "rqxUpKZmdOmh"
      },
      "source": [
        "## 🥊 Take-home Challenge: Writing a Scraper Function\n",
        "\n",
        "We want to scrape the webpages corresponding to bills sponsored by each bills.\n",
        "\n",
        "Write a function called `get_bills(url)` to parse a given bills URL. This will involve:\n",
        "\n",
        "  - requesting the URL using the <a href=\"http://docs.python-requests.org/en/latest/\">`requests`</a> library\n",
        "  - using the features of the `BeautifulSoup` library to find all of the `<td>` elements with the class `billlist`\n",
        "  - return a _list_ of tuples, each with:\n",
        "      - description (2nd column)\n",
        "      - chamber (S or H) (3rd column)\n",
        "      - the last action (4th column)\n",
        "      - the last action date (5th column)\n",
        "      \n",
        "This function has been partially completed. Fill in the rest."
      ]
    },
    {
      "cell_type": "code",
      "execution_count": 134,
      "metadata": {
        "tags": [],
        "id": "pPliziFcdOmh"
      },
      "outputs": [],
      "source": [
        "import requests\n",
        "from bs4 import BeautifulSoup\n",
        "\n",
        "def get_bills(url):\n",
        "    # Solicita el contenido de la página\n",
        "    response = requests.get(url)\n",
        "    response.raise_for_status()  # Lanza error si la solicitud falla\n",
        "\n",
        "    # Analiza el HTML con BeautifulSoup\n",
        "    soup = BeautifulSoup(response.text, 'html.parser')\n",
        "\n",
        "    # Encuentra todas las filas que contienen datos de proyectos de ley\n",
        "    bill_rows = soup.find_all('tr')\n",
        "\n",
        "    bills = []\n",
        "\n",
        "    for row in bill_rows:\n",
        "        # Encuentra todas las celdas con clase 'billlist'\n",
        "        cells = row.find_all('td', class_='billlist')\n",
        "\n",
        "        # Asegúrate de que haya al menos 5 columnas\n",
        "        if len(cells) >= 5:\n",
        "            description = cells[1].get_text(strip=True)\n",
        "            chamber = cells[2].get_text(strip=True)\n",
        "            last_action = cells[3].get_text(strip=True)\n",
        "            last_action_date = cells[4].get_text(strip=True)\n",
        "\n",
        "            bills.append((description, chamber, last_action, last_action_date))\n",
        "\n",
        "    return bills\n"
      ]
    },
    {
      "cell_type": "code",
      "execution_count": 137,
      "metadata": {
        "tags": [],
        "id": "hSJVniwSdOmh"
      },
      "outputs": [],
      "source": [
        "url = 'https://www.ilga.gov/Senate/Members'\n",
        "result = get_bills(url)\n",
        "for bill in result:\n",
        "    print(bill)"
      ]
    },
    {
      "cell_type": "markdown",
      "source": [
        "El codigo seria similiar al siguiente sin embargo no existe una clase billlist por lo cual no arroja resultados."
      ],
      "metadata": {
        "id": "8G1f69oM0qdw"
      }
    },
    {
      "cell_type": "markdown",
      "metadata": {
        "id": "wNDyHCXndOmh"
      },
      "source": [
        "### Scrape All Bills\n",
        "\n",
        "Finally, create a dictionary `bills_dict` which maps a district number (the key) onto a list of bills (the value) coming from that district. You can do this by looping over all of the senate members in `members_dict` and calling `get_bills()` for each of their associated bill URLs.\n",
        "\n",
        "**NOTE:** please call the function `time.sleep(1)` for each iteration of the loop, so that we don't destroy the state's web site."
      ]
    },
    {
      "cell_type": "markdown",
      "source": [
        "En este caso obtenemos todas las biografias de los senadores con el id del senador que se pasa como memberid en la url y se obtiene de la clase col-sm-12"
      ],
      "metadata": {
        "id": "Z4Lnn4Kx6JTS"
      }
    },
    {
      "cell_type": "code",
      "source": [
        "import requests\n",
        "from bs4 import BeautifulSoup\n",
        "import time\n",
        "\n",
        "def get_all_member_ids():\n",
        "    url = \"https://www.ilga.gov/Senate/Members\"\n",
        "    response = requests.get(url)\n",
        "    soup = BeautifulSoup(response.text, 'html.parser')\n",
        "\n",
        "    member_ids = []\n",
        "    for a in soup.select('a[href*=\"/Senate/Members/Details/\"]'):\n",
        "        href = a['href']\n",
        "        if \"/Senate/Members/Details/\" in href:\n",
        "            member_id = href.split(\"/Senate/Members/Details/\")[-1]\n",
        "            member_ids.append(member_id)\n",
        "    return member_ids\n",
        "\n",
        "def get_biography(member_id):\n",
        "    url = f\"https://www.ilga.gov/Senate/Members/Details/{member_id}\"\n",
        "    response = requests.get(url)\n",
        "    soup = BeautifulSoup(response.text, 'html.parser')\n",
        "\n",
        "    bio_div = soup.find('div', class_='col-sm-12')\n",
        "    if bio_div:\n",
        "        bio_text = bio_div.get_text(strip=True)\n",
        "        return bio_text\n",
        "    return \"No se encontró biografía.\"\n",
        "\n",
        "# Ejecutar todo\n",
        "bios_dict = {}\n",
        "member_ids = get_all_member_ids()\n",
        "\n",
        "for member_id in member_ids:\n",
        "    bio = get_biography(member_id)\n",
        "    bios_dict[member_id] = bio\n",
        "    print(f\"🧾 Senador {member_id}:\\n{bio[:300]}...\\n\")  # Muestra los primeros 300 caracteres\n",
        "    time.sleep(1)\n"
      ],
      "metadata": {
        "colab": {
          "base_uri": "https://localhost:8080/",
          "height": 1000
        },
        "id": "9JiS6fbB2rCT",
        "outputId": "0869fd5e-4330-4cc0-a2c9-63286e66d749"
      },
      "execution_count": 173,
      "outputs": [
        {
          "output_type": "stream",
          "name": "stdout",
          "text": [
            "🧾 Senador 3312:\n",
            "BiographyState Senator Neil Anderson, a professional firefighter and paramedic for the City of Moline, was first elected in 2015 and represents Illinois’ 47th District, spanning 15 counties. Raised in the Quad Cities, he worked in his family’s flooring business and walked on to the University of Neb...\n",
            "\n",
            "🧾 Senador 3312:\n",
            "BiographyState Senator Neil Anderson, a professional firefighter and paramedic for the City of Moline, was first elected in 2015 and represents Illinois’ 47th District, spanning 15 counties. Raised in the Quad Cities, he worked in his family’s flooring business and walked on to the University of Neb...\n",
            "\n",
            "🧾 Senador 3316:\n",
            "BiographyBorn and raised on the Northwest Side of Chicago; B.A. in Criminal Justice and Sociology, Loyola University Chicago; Bilingual Case Manager at Central West Case Management Unit at the Jane Addams School of Social Work; Legislative Assistant in the Illinois House of Representatives; Outreach...\n",
            "\n",
            "🧾 Senador 3316:\n",
            "BiographyBorn and raised on the Northwest Side of Chicago; B.A. in Criminal Justice and Sociology, Loyola University Chicago; Bilingual Case Manager at Central West Case Management Unit at the Jane Addams School of Social Work; Legislative Assistant in the Illinois House of Representatives; Outreach...\n",
            "\n",
            "🧾 Senador 3383:\n",
            "BiographyLiandro “Li” Arellano, a U.S. Army veteran and former Mayor of Dixon, was sworn in as Illinois State Senator for the 37th District on January 8, 2025. The district spans over all or parts of Bureau, DeKalb, Henry, LaSalle, Lee, Marshall, Ogle, Peoria, Rock Island, Stark, Whiteside, and Wood...\n",
            "\n",
            "🧾 Senador 3383:\n",
            "BiographyLiandro “Li” Arellano, a U.S. Army veteran and former Mayor of Dixon, was sworn in as Illinois State Senator for the 37th District on January 8, 2025. The district spans over all or parts of Bureau, DeKalb, Henry, LaSalle, Lee, Marshall, Ogle, Peoria, Rock Island, Stark, Whiteside, and Wood...\n",
            "\n",
            "🧾 Senador 3413:\n",
            "BiographySenator Chris Balkema was sworn into office in January 2025. Before joining the Senate, he served on the Grundy County Board, chairing since 2016. With 31 years at Caterpillar, Senator Balkema has held leadership roles in Human Resources, Operations, Logistics, and Purchasing. He also serve...\n",
            "\n",
            "🧾 Senador 3413:\n",
            "BiographySenator Chris Balkema was sworn into office in January 2025. Before joining the Senate, he served on the Grundy County Board, chairing since 2016. With 31 years at Caterpillar, Senator Balkema has held leadership roles in Human Resources, Operations, Logistics, and Purchasing. He also serve...\n",
            "\n",
            "🧾 Senador 3337:\n",
            "BiographyLifelong resident of the Metro East; Graduate of Lincoln Sr. High School in East St. Louis. Bachelor's degree in history from Illinois State University; Master's Degrees in Public Administration from Southern Illinois University Edwardsville and in Professional Counseling from Lindenwood-Be...\n",
            "\n",
            "🧾 Senador 3337:\n",
            "BiographyLifelong resident of the Metro East; Graduate of Lincoln Sr. High School in East St. Louis. Bachelor's degree in history from Illinois State University; Master's Degrees in Public Administration from Southern Illinois University Edwardsville and in Professional Counseling from Lindenwood-Be...\n",
            "\n",
            "🧾 Senador 3386:\n",
            "BiographySenator Terri Bryant was first elected to the Illinois House of Representatives in 2014, and then elected to the Illinois Senate in 2020. Senator Bryant represents the 58th Senate District which includes all or parts of Edwards, Franklin, Hamilton, Jackson, Jefferson, Marion, Monroe, Perry,...\n",
            "\n",
            "🧾 Senador 3386:\n",
            "BiographySenator Terri Bryant was first elected to the Illinois House of Representatives in 2014, and then elected to the Illinois Senate in 2020. Senator Bryant represents the 58th Senate District which includes all or parts of Edwards, Franklin, Hamilton, Jackson, Jefferson, Marion, Monroe, Perry,...\n",
            "\n",
            "🧾 Senador 3317:\n",
            "BiographyBorn and raised in Elgin; Bachelor of Science and Master of Business Administration, Northern Illinois University; Associate of Science, Elgin Community College; Served on Kane County Board; First elected to the Senate in 2016; Resides in Elgin with husband Joe McKeown and their three dogs....\n",
            "\n",
            "🧾 Senador 3317:\n",
            "BiographyBorn and raised in Elgin; Bachelor of Science and Master of Business Administration, Northern Illinois University; Associate of Science, Elgin Community College; Served on Kane County Board; First elected to the Senate in 2016; Resides in Elgin with husband Joe McKeown and their three dogs....\n",
            "\n",
            "🧾 Senador 3403:\n",
            "BiographySenator Javier Loera Cervantes was elected to the Senate in 2022. Born in Chicago, he studied visual communications from the International Academy of Design and Technology, and labor studies at the University of Illinois Chicago School of Labor. He served as a dedicated union representative...\n",
            "\n",
            "🧾 Senador 3403:\n",
            "BiographySenator Javier Loera Cervantes was elected to the Senate in 2022. Born in Chicago, he studied visual communications from the International Academy of Design and Technology, and labor studies at the University of Illinois Chicago School of Labor. He served as a dedicated union representative...\n",
            "\n",
            "🧾 Senador 3410:\n",
            "BiographySmall business owner; Carroll County native raised in Shannon, Illinois; Graduated Cum Laude from Arizona State University; State Representative for Illinois’ 89th District from 2018-2023; former Freeport City Council Member; Past Board Member for Regional Access Mobilization Project (RAMP)...\n",
            "\n",
            "🧾 Senador 3410:\n",
            "BiographySmall business owner; Carroll County native raised in Shannon, Illinois; Graduated Cum Laude from Arizona State University; State Representative for Illinois’ 89th District from 2018-2023; former Freeport City Council Member; Past Board Member for Regional Access Mobilization Project (RAMP)...\n",
            "\n",
            "🧾 Senador 3443:\n",
            "BiographyState Elected Official 2020; Chicago native; mother of three boys; served as a Certified Nursing Assistant in nursing homes; served as a labor advocate and organizer for working families and Fight for 15 spokesperson; served as the chair of the Illinois House Black Caucus; awarded by severa...\n",
            "\n",
            "🧾 Senador 3443:\n",
            "BiographyState Elected Official 2020; Chicago native; mother of three boys; served as a Certified Nursing Assistant in nursing homes; served as a labor advocate and organizer for working families and Fight for 15 spokesperson; served as the chair of the Illinois House Black Caucus; awarded by severa...\n",
            "\n",
            "🧾 Senador 3291:\n",
            "BiographyBiography: Born July 21, 1967. Full-time state legislator and lifelong resident of the 18th Senate District. Graduate of Mt. Carmel High School; B.A. in Political Science from the University of Illinois-Chicago. Former Chief of Staff and Director of Communications for the Cook County Sherif...\n",
            "\n",
            "🧾 Senador 3291:\n",
            "BiographyBiography: Born July 21, 1967. Full-time state legislator and lifelong resident of the 18th Senate District. Graduate of Mt. Carmel High School; B.A. in Political Science from the University of Illinois-Chicago. Former Chief of Staff and Director of Communications for the Cook County Sherif...\n",
            "\n",
            "🧾 Senador 3329:\n",
            "BiographyJohn Curran was sworn in to represent the 41st District in the Illinois Senate in July of 2017. Prior to the General Assembly, he served as the Vice-Chairman of the DuPage County Board, and was a board member from 2008 to 2017. Following 19 years working as an Assistant State's Attorney in ...\n",
            "\n",
            "🧾 Senador 3329:\n",
            "BiographyJohn Curran was sworn in to represent the 41st District in the Illinois Senate in July of 2017. Prior to the General Assembly, he served as the Vice-Chairman of the DuPage County Board, and was a board member from 2008 to 2017. Following 19 years working as an Assistant State's Attorney in ...\n",
            "\n",
            "🧾 Senador 3334:\n",
            "BiographyServed as St. Charles Mayor for 8 years (2005-2013) and St. Charles Alderman for 12 years (1993-2005); Represented Kane County on the Regional Transportation Authority Board from 2013-2018; Edgar Fellow, Class of 2019, University of Illinois School of Government-Champaign-Urbana; Resides in...\n",
            "\n",
            "🧾 Senador 3334:\n",
            "BiographyServed as St. Charles Mayor for 8 years (2005-2013) and St. Charles Alderman for 12 years (1993-2005); Represented Kane County on the Regional Transportation Authority Board from 2013-2018; Edgar Fellow, Class of 2019, University of Illinois School of Government-Champaign-Urbana; Resides in...\n",
            "\n",
            "🧾 Senador 3407:\n",
            "BiographyMary Edly-Allen represented the 51st House district in the 101st General Assembly; she has now been elected to the Senate. She has a B.A. in Education from Northeastern Illinois University and a master's degree in curriculum and instruction with bilingual certification from National Louis U...\n",
            "\n",
            "🧾 Senador 3407:\n",
            "BiographyMary Edly-Allen represented the 51st House district in the 101st General Assembly; she has now been elected to the Senate. She has a B.A. in Education from Northeastern Illinois University and a master's degree in curriculum and instruction with bilingual certification from National Louis U...\n",
            "\n",
            "🧾 Senador 3339:\n",
            "BiographyAssessor at a National Laboratory; has over 25 years of experience working in manufacturing and engineering and dealing with regulations and policies; B.A. in mathematics from Grinnell College; M.A. in applied statistics from the University of Iowa; volunteers with Habitat for Humanity, Fee...\n",
            "\n",
            "🧾 Senador 3339:\n",
            "BiographyAssessor at a National Laboratory; has over 25 years of experience working in manufacturing and engineering and dealing with regulations and policies; B.A. in mathematics from Grinnell College; M.A. in applied statistics from the University of Iowa; volunteers with Habitat for Humanity, Fee...\n",
            "\n",
            "🧾 Senador 3412:\n",
            "BiographyChampaign County resident of 45 years; B.A. University of Illinois; Background includes years of service in Economic Development,City of Champaign Township Assessor, Champaign City Council from 2011-2017, Deputy Mayor City of Champaign 2015-2017; Lives in Champaign with his wife Stephanie a...\n",
            "\n",
            "🧾 Senador 3412:\n",
            "BiographyChampaign County resident of 45 years; B.A. University of Illinois; Background includes years of service in Economic Development,City of Champaign Township Assessor, Champaign City Council from 2011-2017, Deputy Mayor City of Champaign 2015-2017; Lives in Champaign with his wife Stephanie a...\n",
            "\n",
            "🧾 Senador 3376:\n",
            "BiographyFull-time legislator; born in Chicago; B.A., political science, and speech and performing arts, Northeastern Illinois University....\n",
            "\n",
            "🧾 Senador 3376:\n",
            "BiographyFull-time legislator; born in Chicago; B.A., political science, and speech and performing arts, Northeastern Illinois University....\n",
            "\n",
            "🧾 Senador 3338:\n",
            "BiographyFull-time legislator in her second term; B.A. in telecommunications, Indiana University; M.A. in political science, Northeastern Illinois University; graduate of the Illinois Women's Institute for Leadership; the Bowhay Institute for Legislative Leadership Development; an Edgar Fellow, Milb...\n",
            "\n",
            "🧾 Senador 3338:\n",
            "BiographyFull-time legislator in her second term; B.A. in telecommunications, Indiana University; M.A. in political science, Northeastern Illinois University; graduate of the Illinois Women's Institute for Leadership; the Bowhay Institute for Legislative Leadership Development; an Edgar Fellow, Milb...\n",
            "\n",
            "🧾 Senador 3318:\n",
            "BiographyBusiness development officer for Peoples National Bank, former Harrisburg Mayor, City Commissioner, Saline County Board Member, retired from Illinois Department of Juvenile Justice, Chairman Fowler-Bonan Foundation, Member of Delta Regional Authority-Delta Leadership Network, Member of Firs...\n",
            "\n",
            "🧾 Senador 3318:\n",
            "BiographyBusiness development officer for Peoples National Bank, former Harrisburg Mayor, City Commissioner, Saline County Board Member, retired from Illinois Department of Juvenile Justice, Chairman Fowler-Bonan Foundation, Member of Delta Regional Authority-Delta Leadership Network, Member of Firs...\n",
            "\n",
            "🧾 Senador 3341:\n",
            "BiographySuzy Glowiak (D-Western Springs), a mechanical engineer by trade, believes in working in a bipartisan manner to promote compromise and collaboration in order to find meaningful solutions to lower property tax bills, ensure our schools and universities have the resources to be successful and...\n",
            "\n",
            "🧾 Senador 3341:\n",
            "BiographySuzy Glowiak (D-Western Springs), a mechanical engineer by trade, believes in working in a bipartisan manner to promote compromise and collaboration in order to find meaningful solutions to lower property tax bills, ensure our schools and universities have the resources to be successful and...\n",
            "\n"
          ]
        },
        {
          "output_type": "error",
          "ename": "KeyboardInterrupt",
          "evalue": "",
          "traceback": [
            "\u001b[0;31m---------------------------------------------------------------------------\u001b[0m",
            "\u001b[0;31mKeyboardInterrupt\u001b[0m                         Traceback (most recent call last)",
            "\u001b[0;32m/tmp/ipython-input-318657906.py\u001b[0m in \u001b[0;36m<cell line: 0>\u001b[0;34m()\u001b[0m\n\u001b[1;32m     35\u001b[0m     \u001b[0mbios_dict\u001b[0m\u001b[0;34m[\u001b[0m\u001b[0mmember_id\u001b[0m\u001b[0;34m]\u001b[0m \u001b[0;34m=\u001b[0m \u001b[0mbio\u001b[0m\u001b[0;34m\u001b[0m\u001b[0;34m\u001b[0m\u001b[0m\n\u001b[1;32m     36\u001b[0m     \u001b[0mprint\u001b[0m\u001b[0;34m(\u001b[0m\u001b[0;34mf\"🧾 Senador {member_id}:\\n{bio[:300]}...\\n\"\u001b[0m\u001b[0;34m)\u001b[0m  \u001b[0;31m# Muestra los primeros 300 caracteres\u001b[0m\u001b[0;34m\u001b[0m\u001b[0;34m\u001b[0m\u001b[0m\n\u001b[0;32m---> 37\u001b[0;31m     \u001b[0mtime\u001b[0m\u001b[0;34m.\u001b[0m\u001b[0msleep\u001b[0m\u001b[0;34m(\u001b[0m\u001b[0;36m1\u001b[0m\u001b[0;34m)\u001b[0m\u001b[0;34m\u001b[0m\u001b[0;34m\u001b[0m\u001b[0m\n\u001b[0m",
            "\u001b[0;31mKeyboardInterrupt\u001b[0m: "
          ]
        }
      ]
    }
  ],
  "metadata": {
    "anaconda-cloud": {},
    "kernelspec": {
      "display_name": "Python 3 (ipykernel)",
      "language": "python",
      "name": "python3"
    },
    "language_info": {
      "codemirror_mode": {
        "name": "ipython",
        "version": 3
      },
      "file_extension": ".py",
      "mimetype": "text/x-python",
      "name": "python",
      "nbconvert_exporter": "python",
      "pygments_lexer": "ipython3",
      "version": "3.8.13"
    },
    "vscode": {
      "interpreter": {
        "hash": "b6f9fe9f4b7182690503d8ecc2bae97b0ee3ebf54e877167ae4d28c119a56988"
      }
    },
    "colab": {
      "provenance": []
    }
  },
  "nbformat": 4,
  "nbformat_minor": 0
}